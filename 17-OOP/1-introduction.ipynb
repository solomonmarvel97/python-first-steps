{
 "cells": [
  {
   "attachments": {},
   "cell_type": "markdown",
   "metadata": {},
   "source": [
    "# Object Oriented Programming\n",
    "\n",
    "Object-oriented programming (OOP) is a programming paradigm that is based on the concept of \"objects\", which can contain data and code that manipulates that data. In Python, everything is an object and each object has a type, called a class.\n",
    "\n",
    "In object-oriented programming, you define classes to represent the types of objects you want to manipulate, and you create objects that are instances of those classes. Each object has its own set of attributes (data) and behaviors (methods). For example, you might define a Dog class with attributes like name, breed, and age, and behaviors like bark() and fetch(). You could then create individual dog objects that represent specific dogs, like a dog1 object with a name attribute of \"Fido\" and a breed attribute of \"Labrador\".\n",
    "\n",
    "In Python, you define a class using the class keyword, followed by the name of the class and a colon. The body of the class is indented and typically contains a series of methods (functions that are defined within the class). Here's an example of a simple Dog class:\n",
    "\n",
    "```\n",
    "class Dog:\n",
    "    def __init__(self, name, breed, age):\n",
    "        self.name = name\n",
    "        self.breed = breed\n",
    "        self.age = age\n",
    "\n",
    "    def bark(self):\n",
    "        print(\"Woof!\")\n",
    "\n",
    "dog1 = Dog(\"Fido\", \"Labrador\", 3)\n",
    "print(dog1.name)  # Output: \"Fido\"\n",
    "dog1.bark()  # Output: \"Woof!\"\n",
    "```\n",
    "\n",
    "In this example, the __init__ method is a special method in Python that is called when an object is created. It initializes the attributes of the object. The self parameter is a reference to the current object, and is used to access the attributes and methods of the object.\n",
    "\n",
    "The bark() method is a simple method that prints the string \"Woof!\". To call a method on an object, you use the dot notation, like object.method().\n",
    "\n",
    "I hope this helps to give you a basic understanding of object-oriented programming in Python! Let me know if you have any questions.\n",
    "\n",
    "\n",
    "### There are some basic programming concepts in OOP:\n",
    "\n",
    "- Abstraction\n",
    "- Polymorphism\n",
    "- Encapsulation\n",
    "- Inheritance\n",
    "\n",
    "The abstraction is simplifying complex reality by modeling classes appropriate to the problem. The polymorphism is the process of using an operator or function in different ways for different data input. The encapsulation hides the implementation details of a class from other objects. The inheritance is a way to form new classes using classes that have already been defined."
   ]
  }
 ],
 "metadata": {
  "kernelspec": {
   "display_name": "Python 3",
   "language": "python",
   "name": "python3"
  },
  "language_info": {
   "name": "python",
   "version": "3.11.1 (main, Dec 23 2022, 09:39:26) [Clang 14.0.0 (clang-1400.0.29.202)]"
  },
  "orig_nbformat": 4,
  "vscode": {
   "interpreter": {
    "hash": "1a1af0ee75eeea9e2e1ee996c87e7a2b11a0bebd85af04bb136d915cefc0abce"
   }
  }
 },
 "nbformat": 4,
 "nbformat_minor": 2
}
