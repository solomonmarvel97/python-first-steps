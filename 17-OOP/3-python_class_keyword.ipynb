{
 "cells": [
  {
   "attachments": {},
   "cell_type": "markdown",
   "metadata": {},
   "source": [
    "# Python class keyword\n",
    "The previous objects were all built-in objects of the Python programming language. The user defined objects are created using the class keyword. The class is a blueprint that defines a nature of a future object. From classes we construct instances. An instance is a specific object created from a particular class. For example, Huck might be an instance of a Dog class.\n",
    "\n",
    "```\n",
    "class First:\n",
    "    pass\n",
    "\n",
    "fr = First()\n",
    "\n",
    "print(type(fr))\n",
    "print(type(First))\n",
    "```\n",
    "\n",
    "This is our first class. The body of the class is left empty for now. It is a convention to give classes a name that starts with a capital letter.\n",
    "\n",
    "```\n",
    "class First:\n",
    "    pass\n",
    "```\n",
    "\n",
    "Here we define the First class. Note that by default, all classes inherit from the base object.\n",
    "\n",
    "```\n",
    "fr = First()\n",
    "```\n",
    "\n",
    "Here we see that fr is an instance object of the First class.\n",
    "\n",
    "Inside a class, we can define attributes and methods. An attribute is a characteristic of an object. This can be for example a salary of an employee. A method defines operations that we can perform with our objects. A method might define a cancellation of an account. Technically, attributes are variables and methods are functions defined inside a class."
   ]
  }
 ],
 "metadata": {
  "kernelspec": {
   "display_name": "Python 3",
   "language": "python",
   "name": "python3"
  },
  "language_info": {
   "name": "python",
   "version": "3.11.1 (main, Dec 23 2022, 09:39:26) [Clang 14.0.0 (clang-1400.0.29.202)]"
  },
  "orig_nbformat": 4,
  "vscode": {
   "interpreter": {
    "hash": "1a1af0ee75eeea9e2e1ee996c87e7a2b11a0bebd85af04bb136d915cefc0abce"
   }
  }
 },
 "nbformat": 4,
 "nbformat_minor": 2
}
