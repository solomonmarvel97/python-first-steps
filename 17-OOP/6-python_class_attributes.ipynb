{
 "cells": [
  {
   "attachments": {},
   "cell_type": "markdown",
   "metadata": {},
   "source": [
    "### Python class attributes\n",
    "So far, we have been talking about instance attributes. In Python there are also so called class object attributes. Class object attributes are same for all instances of a class.\n",
    "\n",
    "```\n",
    "# class_attribute.py\n",
    "\n",
    "class Cat:\n",
    "    species = 'mammal'\n",
    "    def __init__(self, name, age):\n",
    "        self.name = name\n",
    "        self.age = age\n",
    "\n",
    "missy = Cat('Missy', 3)\n",
    "lucky = Cat('Lucky', 5)\n",
    "\n",
    "print(missy.name, missy.age)\n",
    "print(lucky.name, lucky.age)\n",
    "\n",
    "print(Cat.species)\n",
    "print(missy.__class__.species)\n",
    "print(lucky.__class__.species)\n",
    "```\n",
    "\n",
    "In our example, we have two cats with specific name and age attributes. Both cats share some characteristics. Missy and Lucky are both mammals. This is reflected in a class level attribute species. The attribute is defined outside any method name in the body of a class.\n",
    "\n",
    "```\n",
    "print(Cat.species)\n",
    "print(missy.__class__.species)\n",
    "```\n",
    "\n",
    "There are two ways how we can access the class object attributes: either via the name of the Cat class, or with the help of a special __class__ attribute.\n",
    "\n",
    "```\n",
    "$ ./class_attribute.py \n",
    "Missy 3\n",
    "Lucky 5\n",
    "mammal\n",
    "mammal\n",
    "mammal\n",
    "```"
   ]
  }
 ],
 "metadata": {
  "kernelspec": {
   "display_name": "Python 3",
   "language": "python",
   "name": "python3"
  },
  "language_info": {
   "name": "python",
   "version": "3.11.1 (main, Dec 23 2022, 09:39:26) [Clang 14.0.0 (clang-1400.0.29.202)]"
  },
  "orig_nbformat": 4,
  "vscode": {
   "interpreter": {
    "hash": "1a1af0ee75eeea9e2e1ee996c87e7a2b11a0bebd85af04bb136d915cefc0abce"
   }
  }
 },
 "nbformat": 4,
 "nbformat_minor": 2
}
