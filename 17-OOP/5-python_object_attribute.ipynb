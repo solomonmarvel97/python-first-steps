{
 "cells": [
  {
   "attachments": {},
   "cell_type": "markdown",
   "metadata": {},
   "source": [
    "### Python object attributes\n",
    "Attributes are characteristics of an object. Attributes are set in the __init__ method.\n",
    "\n",
    "```\n",
    "class Cat:\n",
    "    def __init__(self, name):\n",
    "        self.name = name\n",
    "\n",
    "missy = Cat('Missy')\n",
    "lucky = Cat('Lucky')\n",
    "\n",
    "print(missy.name)\n",
    "print(lucky.name)\n",
    "```\n",
    "\n",
    "In this code example, we have a Cat class. The special method __init__ is called automatically right after the object has been created.\n",
    "\n",
    "```\n",
    "def __init__(self, name):\n",
    "```\n",
    "\n",
    "Each method in a class definition begins with a reference to the instance object. It is by convention named self. There is nothing special about the self name. We could name it this, for example. The second parameter, name, is the argument. The value is passed during the class initialization.\n",
    "```\n",
    "self.name = name\n",
    "```\n",
    "Here we pass an attribute to an instance object.\n",
    "```\n",
    "missy = Cat('Missy')\n",
    "lucky = Cat('Lucky')\n",
    "```\n",
    "\n",
    "Here we create two objects: cats Missy and Lucky. The number of arguments must correspond to the __init__ method of the class definition. The 'Missy' and 'Lucky' strings become the name parameter of the __init__ method.\n",
    "\n",
    "```\n",
    "print(missy.name)\n",
    "print(lucky.name)\n",
    "```\n",
    "\n",
    "The attributes can be assigned dynamically, not just during initialization. This is demonstrated by the next example.\n",
    "\n",
    "```\n",
    "# attributes_dynamic.py\n",
    "\n",
    "class Person:\n",
    "    pass\n",
    "\n",
    "p = Person()\n",
    "p.age = 24\n",
    "p.name = \"Peter\"\n",
    "\n",
    "print(\"{0} is {1} years old\".format(p.name, p.age))\n",
    "```"
   ]
  }
 ],
 "metadata": {
  "kernelspec": {
   "display_name": "Python 3",
   "language": "python",
   "name": "python3"
  },
  "language_info": {
   "name": "python",
   "version": "3.11.1 (main, Dec 23 2022, 09:39:26) [Clang 14.0.0 (clang-1400.0.29.202)]"
  },
  "orig_nbformat": 4,
  "vscode": {
   "interpreter": {
    "hash": "1a1af0ee75eeea9e2e1ee996c87e7a2b11a0bebd85af04bb136d915cefc0abce"
   }
  }
 },
 "nbformat": 4,
 "nbformat_minor": 2
}
