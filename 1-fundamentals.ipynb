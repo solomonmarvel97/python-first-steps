{
 "cells": [
  {
   "attachments": {},
   "cell_type": "markdown",
   "id": "9c73745d",
   "metadata": {},
   "source": [
    "### Variables\n",
    "\n",
    "A variable in Python is a symbolic name that serves as a reference or pointer to an object. Once an object is assigned to a variable, it can be referred to by that name. However, the data is still contained within the object.\n",
    "\n",
    "In Python, a variable is a named location in memory that stores a value. Variables are used to store data values in programs. When you create a variable, you specify a name for the variable and a value to store in the variable. You can then use the variable name in your program to refer to the value stored in the variable.\n",
    "\n",
    "For example, you might create a variable named x and assign it the value 10. You can then use the variable x in your program to refer to the value 10."
   ]
  },
  {
   "cell_type": "code",
   "execution_count": null,
   "id": "ef45a066",
   "metadata": {},
   "outputs": [],
   "source": []
  },
  {
   "cell_type": "code",
   "execution_count": null,
   "id": "d2b20c65",
   "metadata": {},
   "outputs": [],
   "source": [
    "# In this example, the variable x is created and assigned the value 10. You can then use the variable x in your program like this:\n",
    "variable = 1\n",
    "\n",
    "# You can also assign a new value to a variable using the assignment operator (=). For example:\n",
    "variable = 2\n",
    "\n",
    "# A variable with a type hint\n",
    "variable_with_type: int = 1\n",
    "\n",
    "print(variable_with_type) # print the result of our variable"
   ]
  },
  {
   "attachments": {},
   "cell_type": "markdown",
   "id": "0b6eaf56",
   "metadata": {},
   "source": [
    "### Variable Rules in Python\n",
    "\n",
    "- A variable must start with a letter or the underscore character.\n",
    "\n",
    "- A variable cannot start with a number.\n",
    "\n",
    "- A variable can only contain alpha-numeric characters and underscores (A-z, 0-9, and _ )\n",
    "\n",
    "- Variables are case-sensitive (age, Age and AGE are three different variables)"
   ]
  },
  {
   "attachments": {},
   "cell_type": "markdown",
   "id": "efb35ec9",
   "metadata": {},
   "source": [
    "### Data Types & Data Structures\n",
    "\n",
    "#### Data Types\n",
    "For short, a data type describes a set of possible values and operations that can be performed on a variable\n",
    "\n",
    "In Python, a data type is a category for values. Every value in Python has a data type, which determines the kind of operations that can be performed on that value and the way the value can be stored in memory.\n",
    "\n",
    "There are several built-in data types in Python, including:\n",
    "\n",
    "- Numbers: Python has three types of numbers: integers (int), floating-point numbers (float), and complex numbers (complex). Integers are whole numbers, while floating-point numbers have decimal points. Complex numbers have a real and imaginary part.\n",
    "\n",
    "- Strings: A string is a sequence of characters, represented by either single quotes (') or double quotes (\"). Strings can contain letters, numbers, and special characters.\n",
    "\n",
    "- Lists: A list is an ordered collection of values that can be of any data type. Lists are written as a series of values separated by commas and enclosed in square brackets.\n",
    "\n",
    "- Tuples: A tuple is similar to a list, but it is immutable, meaning that its values cannot be modified once it is created. Tuples are written as a series of values separated by commas and enclosed in parentheses.\n",
    "\n",
    "- Sets: A set is an unordered collection of unique values. Sets are written as a series of values separated by commas and enclosed in curly braces.\n",
    "\n",
    "- Dictionaries: A dictionary is a collection of key-value pairs. The keys must be unique and are used to retrieve the corresponding values. Dictionaries are written as a series of key-value pairs separated by commas and enclosed in curly braces.\n",
    "\n",
    "In addition to these built-in data types, you can also define your own data types in Python using classes (more of this in an advanced topic)\n",
    "\n",
    "#### Data Structures\n",
    "\n",
    "- In computer science, a data structure is a way of organizing and storing data in a computer so that it can be accessed and modified efficiently. Python has a number of built-in data structures, which can be used to store and organize data in an efficient manner.\n",
    "\n",
    "- Python's basic data structures include list, set, tuples, and dictionary. Each data structure is distinct in its own way. Data structures are \"containers\" that organize and categorize data. The mutability and order of the data structures differs from one data structure to the other.\n",
    "\n",
    "- Some of the most common data structures in Python include:\n",
    "\n",
    "- Lists: Lists are ordered collections of objects. They can store elements of different data types, and are implemented as arrays in Python. Lists are mutable, which means you can change their contents after they have been created.\n",
    "\n",
    "- Tuples: Tuples are also ordered collections of objects, but they are immutable, which means you cannot change their contents after they have been created. Tuples are often used to store data that should not be modified, such as records in a database.\n",
    "\n",
    "- Dictionaries: Dictionaries are unordered collections of key-value pairs. They are implemented using hash tables in Python, and are very efficient for looking up values based on their keys.\n",
    "\n",
    "- Sets: Sets are unordered collections of unique elements. They are useful for storing data that does not need to be in a particular order, and for removing duplicates from a list.\n",
    "\n",
    "- Strings: Strings are sequences of characters. They are immutable, which means you cannot change the contents of a string after it has been created. Strings are often used to store and manipulate text data."
   ]
  },
  {
   "cell_type": "code",
   "execution_count": null,
   "id": "2f3d5e57",
   "metadata": {},
   "outputs": [],
   "source": [
    "# number or integer type\n",
    "id = 1 \n",
    "\n",
    "# string type\n",
    "name = \"Marvelous Akporowho\"\n",
    "\n",
    "# boolean type\n",
    "is_that_so = True \n",
    "\"\"\"\n",
    "There's no null type in python but you can use \n",
    "None to describe a null object in python\n",
    "\"\"\"\n",
    "nothing = None\n",
    "\n",
    "# List Data Structure in python\n",
    "names_list = [\"Emmanuella\", \"Marvelous\", \"Joy\", \"Mark\", \"Trust\", \"Dien\"]\n",
    "\n",
    "# Tuple Data Structure in python\n",
    "names_tuple = (\"Emmanuella\", \"Marvelous\", \"Joy\", \"Mark\", \"Trust\", \"Dien\")\n",
    "\n",
    "# Dictionary Data Structure in Python\n",
    "user_dict = {\n",
    "    \"name\": \"Dien\",\n",
    "    \"age\": 16,\n",
    "    \"department\": \"Accounting\"\n",
    "}\n",
    "\n",
    "# Set Data Structure in python\n",
    "name_set = {\"Emmanuella\", \"Marvelous\"}\n",
    "print(name_set)"
   ]
  },
  {
   "cell_type": "markdown",
   "id": "feaaa262",
   "metadata": {},
   "source": [
    "### Examples & Explanations"
   ]
  },
  {
   "attachments": {},
   "cell_type": "markdown",
   "id": "06c3a177",
   "metadata": {},
   "source": [
    "#### String\n",
    "A string is a collection of characters wrapped in a single or double quote. \n",
    "Like many other popular programming languages, strings in Python are arrays of bytes representing unicode characters."
   ]
  },
  {
   "cell_type": "code",
   "execution_count": null,
   "id": "682c33d7",
   "metadata": {},
   "outputs": [],
   "source": [
    "first_name = \"Marvelous\"\n",
    "last_name = \"Akporowho\"\n",
    "\n",
    "# String formating patterns (Different ways to format your python strings)\n",
    "full_name1 = first_name + \" \" + last_name\n",
    "full_name2 = f'{first_name} {last_name}'\n",
    "full_name3 = '{} {}'.format(first_name, last_name)\n",
    "\n",
    "print(full_name1) # print the value of full_name1\n",
    "print(full_name2) # print the value of full_name2\n",
    "print(full_name3) # print the value of full_name3"
   ]
  },
  {
   "cell_type": "markdown",
   "id": "c30ba581",
   "metadata": {},
   "source": [
    "### Numbers\n",
    "Python has three built-in numeric data types: integers, floating-point numbers, and complex numbers. In this section, you'll learn about integers and floating-point numbers, which are the two most commonly used number types. You'll learn about complex numbers in a later section."
   ]
  },
  {
   "cell_type": "code",
   "execution_count": null,
   "id": "8e37e92e",
   "metadata": {},
   "outputs": [],
   "source": [
    "number = 1\n",
    "decimal_number1 = .5\n",
    "decimal_number2 = 10.5\n",
    "\n",
    "# you can use the underscores to make the numbers more visible when coding\n",
    "# The underscores will not be added to the output\n",
    "salary = 21_500_000\n",
    "\n",
    "pi = 3.142\n",
    "r = 5\n",
    "\n",
    "# simple arithmetic operation using python number type\n",
    "area = pi * r ** r\n",
    "print(area)"
   ]
  },
  {
   "cell_type": "markdown",
   "id": "e47373d0",
   "metadata": {},
   "source": [
    "### Boolean\n",
    "Python boolean type is one of the built-in data types provided by Python, which represents one of the two values i.e. True or False. Generally, it is used to represent the truth values of the expressions"
   ]
  },
  {
   "cell_type": "code",
   "execution_count": null,
   "id": "3cb2aea2",
   "metadata": {},
   "outputs": [],
   "source": [
    "isMarried = True\n",
    "\n",
    "print(type(isMarried))\n",
    "\n",
    "if(not isMarried):\n",
    "    print(\"John is not Married\")\n",
    "else:\n",
    "    print(\"John is married\")"
   ]
  },
  {
   "attachments": {},
   "cell_type": "markdown",
   "id": "41e7bc2d",
   "metadata": {},
   "source": [
    "### Constants\n",
    "In Python, a constant is a variable whose value remains unchanged throughout the program. Constants are usually defined in all capital letters so that they can be easily identified.\n",
    "\n",
    "In Python, there is no built-in support for constants. However, you can define constants in your program by assigning a value to a variable and then not changing the value of the variable.\n",
    "\n",
    "Here is an example of how to define and use constants in Python:"
   ]
  },
  {
   "cell_type": "code",
   "execution_count": 1,
   "id": "2844a692",
   "metadata": {},
   "outputs": [
    {
     "name": "stdout",
     "output_type": "stream",
     "text": [
      "https://solomonmarvel.com\n",
      "The area of a circle with radius 10 is 314.159265\n"
     ]
    }
   ],
   "source": [
    "\"\"\"\n",
    "Constants -> Python doesn't support constants, \n",
    "but we use the uppercase letters to show \n",
    "that it is a constant\n",
    "\"\"\"\n",
    "\n",
    "WEBSITE_HOST = 'https://solomonmarvel.com'\n",
    "\n",
    "print(WEBSITE_HOST)\n",
    "\n",
    "\n",
    "# code example\n",
    "\n",
    "PI = 3.14159265\n",
    "\n",
    "def calculate_area(radius):\n",
    "  return PI * radius * radius\n",
    "\n",
    "radius = 10\n",
    "area = calculate_area(radius)\n",
    "print(f\"The area of a circle with radius {radius} is {area}\")"
   ]
  },
  {
   "cell_type": "markdown",
   "id": "01fff75f",
   "metadata": {},
   "source": [
    "### Type Conversion\n",
    "Type conversion is the process of converting a data type into another data type. Implicit type conversion is performed by a Python interpreter only. Explicit type conversion is performed by the user by explicitly using type conversion functions in the program code. Explicit type conversion is also known as typecasting"
   ]
  },
  {
   "cell_type": "code",
   "execution_count": null,
   "id": "bbc70088",
   "metadata": {},
   "outputs": [],
   "source": [
    "x: int = 20\n",
    "y = str(x)\n",
    "z = int(y)\n",
    "a = float(z)\n",
    "\n",
    "name = \"10\"\n",
    "other_name = int(name)\n",
    "print(type(a))"
   ]
  },
  {
   "cell_type": "markdown",
   "id": "c438d174",
   "metadata": {},
   "source": [
    "### Python Comments\n",
    "Comments in Python is the inclusion of short descriptions along with the code to increase its readability. A developer uses them to write his or her thought process while writing the code. It explains the basic logic behind why a particular line of code was written"
   ]
  },
  {
   "cell_type": "code",
   "execution_count": null,
   "id": "ee9b561d",
   "metadata": {},
   "outputs": [],
   "source": [
    "# This is a single line comment in python\n",
    "\n",
    "\"\"\"\n",
    "  This is a doc type/multi line comment\n",
    "  in python\n",
    "\"\"\""
   ]
  },
  {
   "cell_type": "markdown",
   "id": "b0843b6d",
   "metadata": {},
   "source": [
    "### Control Flow in Python\n",
    "A program's control flow is the order in which the program's code executes. The control flow of a Python program is regulated by conditional statements, loops, and function calls. Python has three types of control structures: Sequential - default mode. Selection - used for decisions and branching."
   ]
  },
  {
   "cell_type": "markdown",
   "id": "f7a57cdc",
   "metadata": {},
   "source": [
    "#### If statement in python\n",
    "\n",
    "Image result for if statement in python\n",
    "In a Python program, the if statement is how you perform this sort of decision-making. It allows for conditional execution of a statement or group of statements based on the value of an expression."
   ]
  },
  {
   "cell_type": "code",
   "execution_count": null,
   "id": "b6c2895a",
   "metadata": {},
   "outputs": [],
   "source": [
    "# example 1: Make a guess game\n",
    "guess = 5\n",
    "if(int(guess) == 7):\n",
    "    print('You won')\n",
    "    \n",
    "\n",
    "# example 2: if statement example 2\n",
    "if 2>5 and 2>1:\n",
    "    print(\"One of this condition is correct\")\n",
    "\n",
    "\n",
    "# examle 3: if elif else conditionals\n",
    "name = \"Marvelos\"\n",
    "\n",
    "if name == \"Marvelous\":\n",
    "    print(name)\n",
    "elif name == \"John\":\n",
    "    print('name is not marv')\n",
    "else:\n",
    "    print('The name is neither Marvelous nor John')\n",
    "\n",
    "    \n",
    "# if statement short hand (tenary operator)    \n",
    "condition = True if 5 > 5 else False"
   ]
  },
  {
   "cell_type": "markdown",
   "id": "0ac20dca",
   "metadata": {},
   "source": [
    "#### For Loop\n",
    "A for loop is used for iterating over a sequence (that is either a list, a tuple, a dictionary, a set, or a string). This is less like the for keyword in other programming languages, and works more like an iterator method as found in other object-orientated programming languages."
   ]
  },
  {
   "cell_type": "code",
   "execution_count": 7,
   "id": "9da337ba",
   "metadata": {},
   "outputs": [
    {
     "name": "stdout",
     "output_type": "stream",
     "text": [
      "1 is an odd number\n",
      "Name is Joy\n"
     ]
    }
   ],
   "source": [
    "# for loop control flow - example 1\n",
    "for i in range(2):\n",
    "    if i == 0:\n",
    "        continue\n",
    "    elif i%2 == 0:\n",
    "        print (f'{i} is an even number')\n",
    "    else:\n",
    "        print(f'{i} is an odd number')\n",
    "\n",
    "name = \"Joy\"\n",
    "result = \"Name is Joy\" if name == \"Joy\" else \"Name is not Joy\"\n",
    "print(result)"
   ]
  },
  {
   "cell_type": "markdown",
   "id": "33aeb57f",
   "metadata": {},
   "source": [
    "#### For loop break keyword\n",
    "'break' in Python is a loop control statement. It is used to control the sequence of the loop. Suppose you want to terminate a loop and skip to the next code after the loop; break will help you do that. A typical scenario of using the Break in Python is when an external condition triggers the loop's termination."
   ]
  },
  {
   "cell_type": "code",
   "execution_count": null,
   "id": "39b903e7",
   "metadata": {},
   "outputs": [],
   "source": [
    "# Using the continue keyword in a loop\n",
    "for i in range(50):\n",
    "    if(i == 25):\n",
    "        break\n",
    "    print(i)"
   ]
  },
  {
   "cell_type": "markdown",
   "id": "f375e18e",
   "metadata": {},
   "source": [
    "#### For loop continue keyword\n",
    "'continue' in Python is a loop control statement. It is used to control the sequence of the loop. Suppose you want to skip a certain item and move to the next in a loop, 'continue' will help you achieve that."
   ]
  },
  {
   "cell_type": "code",
   "execution_count": null,
   "id": "8ad35f26",
   "metadata": {},
   "outputs": [],
   "source": [
    "# Using the continue keyword in a loop\n",
    "for i in range(50):\n",
    "    if(i == 25):\n",
    "        continue\n",
    "    print(i)"
   ]
  },
  {
   "cell_type": "markdown",
   "id": "7226740a",
   "metadata": {},
   "source": [
    "#### While loop in python\n",
    "A while loop will run a piece of code while a condition is True. It will keep executing the desired set of code statements until that condition is no longer True. A while loop will always first check the condition before running. If the condition evaluates to True then the loop will run the code within the loop's body."
   ]
  },
  {
   "cell_type": "code",
   "execution_count": null,
   "id": "91ea5a35",
   "metadata": {},
   "outputs": [],
   "source": [
    "# While loop\n",
    "\n",
    "max = 5\n",
    "count = 1\n",
    "while count < max:\n",
    "    print(\"We are live\")\n",
    "    count += 1"
   ]
  }
 ],
 "metadata": {
  "kernelspec": {
   "display_name": "Python 3",
   "language": "python",
   "name": "python3"
  },
  "language_info": {
   "codemirror_mode": {
    "name": "ipython",
    "version": 3
   },
   "file_extension": ".py",
   "mimetype": "text/x-python",
   "name": "python",
   "nbconvert_exporter": "python",
   "pygments_lexer": "ipython3",
   "version": "3.10.5"
  },
  "vscode": {
   "interpreter": {
    "hash": "7e1998ff7f8aa20ada591c520b972326324e5ea05489af9e422744c7c09f6dad"
   }
  }
 },
 "nbformat": 4,
 "nbformat_minor": 5
}
