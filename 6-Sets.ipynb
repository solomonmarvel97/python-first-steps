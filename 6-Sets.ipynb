{
 "cells": [
  {
   "attachments": {},
   "cell_type": "markdown",
   "id": "623733fe",
   "metadata": {},
   "source": [
    "# Set\n",
    "\n",
    "In Python, a set is an unordered collection of unique elements. Sets are used to store multiple items in a single variable. Sets are useful when you need to keep track of a collection of elements, but don't care about the order, or when you want to eliminate duplicates.\n",
    "\n",
    "- Elements in a set are unordered.\n",
    "- Elements in a set are unique. A set doesn’t allow duplicate elements.\n",
    "- Elements in a set cannot be changed. For example, they can be numbers, strings, and tuples, but cannot be lists or dictionaries.\n"
   ]
  },
  {
   "cell_type": "markdown",
   "id": "0dbae1f6",
   "metadata": {},
   "source": [
    "### Creating a set"
   ]
  },
  {
   "cell_type": "code",
   "execution_count": 72,
   "id": "a0c617af",
   "metadata": {},
   "outputs": [
    {
     "name": "stdout",
     "output_type": "stream",
     "text": [
      "{'marvelous', 'linux', 'faith', 'emmanuella'}\n"
     ]
    }
   ],
   "source": [
    "unique_user = {\"marvelous\", \"emmanuella\", \"faith\", \"linux\"}\n",
    "print(unique_user)"
   ]
  },
  {
   "cell_type": "markdown",
   "id": "26c840b3",
   "metadata": {},
   "source": [
    "### To define an empty set"
   ]
  },
  {
   "cell_type": "code",
   "execution_count": 77,
   "id": "a802a25f",
   "metadata": {},
   "outputs": [
    {
     "name": "stdout",
     "output_type": "stream",
     "text": [
      "set()\n"
     ]
    }
   ],
   "source": [
    "unique_user = set()\n",
    "print(unique_user)"
   ]
  },
  {
   "cell_type": "markdown",
   "id": "9560ad23",
   "metadata": {},
   "source": [
    "### Clear a set\n",
    "To remove all the items in the set"
   ]
  },
  {
   "cell_type": "code",
   "execution_count": 82,
   "id": "92176f29",
   "metadata": {},
   "outputs": [
    {
     "name": "stdout",
     "output_type": "stream",
     "text": [
      "set()\n"
     ]
    }
   ],
   "source": [
    "unique_user = {\"marvelous\", \"emmanuella\", \"faith\", \"linux\"}\n",
    "unique_user.clear() # cleared the set\n",
    "print(unique_user)"
   ]
  },
  {
   "cell_type": "markdown",
   "id": "c96660ab",
   "metadata": {},
   "source": [
    "### Remove\n",
    "This removes an item from the set but resolves in an error if the item is not found in the set"
   ]
  },
  {
   "cell_type": "code",
   "execution_count": 94,
   "id": "1c070f05",
   "metadata": {},
   "outputs": [
    {
     "name": "stdout",
     "output_type": "stream",
     "text": [
      "{'linux', 'faith', 'emmanuella'}\n"
     ]
    }
   ],
   "source": [
    "unique_user = {\"marvelous\", \"emmanuella\", \"faith\", \"linux\"}\n",
    "unique_user.remove(\"marvelous\")\n",
    "print(unique_user)"
   ]
  },
  {
   "cell_type": "markdown",
   "id": "48861171",
   "metadata": {},
   "source": [
    "### Discard\n",
    "When using discard, it checks if the item exists in the set before removing the item"
   ]
  },
  {
   "cell_type": "code",
   "execution_count": 125,
   "id": "e25ee6e5",
   "metadata": {},
   "outputs": [
    {
     "name": "stdout",
     "output_type": "stream",
     "text": [
      "{'linux', 'faith', 'emmanuella'}\n"
     ]
    }
   ],
   "source": [
    "unique_user = {\"marvelous\", \"emmanuella\", \"faith\", \"linux\"}\n",
    "unique_user.discard(\"marvelous\")\n",
    "print(unique_user)"
   ]
  },
  {
   "cell_type": "markdown",
   "id": "07a93cbd",
   "metadata": {},
   "source": [
    "### Pop\n",
    "The pop function takes off a random element from the set"
   ]
  },
  {
   "cell_type": "code",
   "execution_count": 129,
   "id": "b05edcbc",
   "metadata": {},
   "outputs": [
    {
     "name": "stdout",
     "output_type": "stream",
     "text": [
      "{'mercilia', 'marvelous', 'john', 'melvina', 'zack'}\n"
     ]
    }
   ],
   "source": [
    "person = {\"marvelous\", \"emmanuella\", \"john\", \"zack\", \"melvina\", \"mercilia\"}\n",
    "person.pop()\n",
    "print(person)"
   ]
  },
  {
   "cell_type": "markdown",
   "id": "5df0fe91",
   "metadata": {},
   "source": [
    "### Add \n",
    "Adds items to the set"
   ]
  },
  {
   "cell_type": "code",
   "execution_count": 131,
   "id": "97f7152d",
   "metadata": {
    "scrolled": true
   },
   "outputs": [
    {
     "name": "stdout",
     "output_type": "stream",
     "text": [
      "{'marvelous', 'mark'}\n"
     ]
    }
   ],
   "source": [
    "unique_user = set()\n",
    "unique_user.add(\"mark\")\n",
    "unique_user.add(\"marvelous\")\n",
    "print(unique_user)"
   ]
  },
  {
   "cell_type": "markdown",
   "id": "ad4f5947",
   "metadata": {},
   "source": [
    "### Frozen\n",
    "Makes a set immutable"
   ]
  },
  {
   "cell_type": "code",
   "execution_count": 138,
   "id": "a6e89c40",
   "metadata": {},
   "outputs": [
    {
     "name": "stdout",
     "output_type": "stream",
     "text": [
      "frozenset({'marvelous', 'linux', 'faith', 'emmanuella'})\n"
     ]
    }
   ],
   "source": [
    "unique_user_set = {\"marvelous\", \"emmanuella\", \"faith\", \"linux\"} # our set is mutable\n",
    "frozen_unique_users = frozenset(unique_user_set) # our set becomes immutable\n",
    "print(frozen_unique_users)"
   ]
  },
  {
   "cell_type": "markdown",
   "id": "59f4518b",
   "metadata": {},
   "source": [
    "### Set comprehension"
   ]
  },
  {
   "cell_type": "code",
   "execution_count": 144,
   "id": "b2edfce8",
   "metadata": {},
   "outputs": [
    {
     "name": "stdout",
     "output_type": "stream",
     "text": [
      "{'MARVELOUS', 'LINUX', 'FAITH', 'EMMANUELLA'}\n"
     ]
    }
   ],
   "source": [
    "unique_user = {\"marvelous\", \"emmanuella\", \"faith\", \"linux\"}\n",
    "uppercase = {user.upper() for user in unique_user}\n",
    "print(uppercase)"
   ]
  },
  {
   "cell_type": "markdown",
   "id": "0265d16b",
   "metadata": {},
   "source": [
    "### Union\n",
    "Combining sets together"
   ]
  },
  {
   "cell_type": "code",
   "execution_count": 147,
   "id": "b45aa68f",
   "metadata": {},
   "outputs": [
    {
     "name": "stdout",
     "output_type": "stream",
     "text": [
      "{'Melvina', 'Amaka', 'Emmanuella', 'Marvelous'}\n"
     ]
    }
   ],
   "source": [
    "users1 = {'Marvelous', 'Melvina'}\n",
    "users2 = {'Amaka', 'Emmanuella', \"Marvelous\"}\n",
    "union = users1.union(users2)\n",
    "print(union)"
   ]
  },
  {
   "cell_type": "markdown",
   "id": "0675225a",
   "metadata": {},
   "source": [
    "### Intersection\n",
    "This function gives you the similarity in the two sets"
   ]
  },
  {
   "cell_type": "code",
   "execution_count": 150,
   "id": "7d44333f",
   "metadata": {},
   "outputs": [
    {
     "name": "stdout",
     "output_type": "stream",
     "text": [
      "{'Marvelous'}\n"
     ]
    }
   ],
   "source": [
    "users1 = {'Marvelous', 'Melvina'}\n",
    "users2 = {'Amaka', 'Emmanuella', \"Marvelous\"}\n",
    "intersection = users1.intersection(users2)\n",
    "print(intersection)"
   ]
  },
  {
   "cell_type": "markdown",
   "id": "4844d1e5",
   "metadata": {},
   "source": [
    "### Difference\n",
    "Gives you the difference in item found in the second"
   ]
  },
  {
   "cell_type": "code",
   "execution_count": 156,
   "id": "df1a34fa",
   "metadata": {},
   "outputs": [
    {
     "name": "stdout",
     "output_type": "stream",
     "text": [
      "{'Joy'}\n"
     ]
    }
   ],
   "source": [
    "users1 = {'Marvelous', 'Melvina', \"Emmanuella\", \"Joy\"}\n",
    "users2 = {'Melvina', 'Emmanuella', \"Marvelous\"}\n",
    "difference = users1.difference(users2)\n",
    "print(difference)"
   ]
  },
  {
   "cell_type": "markdown",
   "id": "e886e16f",
   "metadata": {},
   "source": [
    "### Symmetric_difference\n",
    "Returns the difference in the set i.e the item that is not on either set"
   ]
  },
  {
   "cell_type": "code",
   "execution_count": 161,
   "id": "9f38fd3e",
   "metadata": {},
   "outputs": [
    {
     "name": "stdout",
     "output_type": "stream",
     "text": [
      "{'Konan', 'Joy'}\n"
     ]
    }
   ],
   "source": [
    "users1 = {'Marvelous', 'Melvina', \"Emmanuella\", \"Joy\"}\n",
    "users2 = {'Melvina', 'Emmanuella', \"Marvelous\", \"Konan\"}\n",
    "symmetric_difference = users1.symmetric_difference(users2)\n",
    "print(symmetric_difference)"
   ]
  },
  {
   "cell_type": "markdown",
   "id": "b89289bd",
   "metadata": {},
   "source": [
    "### Subset\n",
    "Checks if a set is a subset of another set"
   ]
  },
  {
   "cell_type": "code",
   "execution_count": 164,
   "id": "5c32ceb7",
   "metadata": {},
   "outputs": [
    {
     "name": "stdout",
     "output_type": "stream",
     "text": [
      "True\n"
     ]
    }
   ],
   "source": [
    "users1 = {'Marvelous', 'Melvina', \"Emmanuella\", \"Joy\"}\n",
    "users2 = {'Melvina', 'Emmanuella'}\n",
    "is_subset = users2.issubset(users1)\n",
    "print(is_subset)"
   ]
  },
  {
   "cell_type": "markdown",
   "id": "008ce35e",
   "metadata": {},
   "source": [
    "### Superset\n",
    "Checks if a set is a superset of another set"
   ]
  },
  {
   "cell_type": "code",
   "execution_count": 61,
   "id": "22dcb12e",
   "metadata": {},
   "outputs": [
    {
     "name": "stdout",
     "output_type": "stream",
     "text": [
      "True\n"
     ]
    }
   ],
   "source": [
    "users1 = {'Marvelous', 'Melvina', \"Emmanuella\", \"Joy\"}\n",
    "users2 = {'Melvina', 'Emmanuella'}\n",
    "is_superset = users1.issuperset(users2)\n",
    "print(is_superset)"
   ]
  },
  {
   "cell_type": "markdown",
   "id": "366dbdb2",
   "metadata": {},
   "source": [
    "### Disjoint \n",
    "Checks if both sets do not have anything in common"
   ]
  },
  {
   "cell_type": "code",
   "execution_count": 200,
   "id": "cc13d262",
   "metadata": {
    "scrolled": false
   },
   "outputs": [
    {
     "name": "stdout",
     "output_type": "stream",
     "text": [
      "True\n"
     ]
    }
   ],
   "source": [
    "users1 = {'Marvelous', \"Joy\"}\n",
    "users2 = {'Melvina', 'Emmanuella'}\n",
    "is_disjoint = users1.isdisjoint(users2)\n",
    "print(is_disjoint)"
   ]
  }
 ],
 "metadata": {
  "kernelspec": {
   "display_name": "Python 3",
   "language": "python",
   "name": "python3"
  },
  "language_info": {
   "codemirror_mode": {
    "name": "ipython",
    "version": 3
   },
   "file_extension": ".py",
   "mimetype": "text/x-python",
   "name": "python",
   "nbconvert_exporter": "python",
   "pygments_lexer": "ipython3",
   "version": "3.11.1 (main, Dec 23 2022, 09:39:26) [Clang 14.0.0 (clang-1400.0.29.202)]"
  },
  "vscode": {
   "interpreter": {
    "hash": "1a1af0ee75eeea9e2e1ee996c87e7a2b11a0bebd85af04bb136d915cefc0abce"
   }
  }
 },
 "nbformat": 4,
 "nbformat_minor": 5
}
