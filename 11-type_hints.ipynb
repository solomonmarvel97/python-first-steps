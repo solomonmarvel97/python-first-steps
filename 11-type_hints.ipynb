{
 "cells": [
  {
   "attachments": {},
   "cell_type": "markdown",
   "metadata": {},
   "source": [
    "# Python Type Hints\n",
    "Type hints in Python are a way to specify the expected type of a function's arguments and return value. They are a form of documentation that can be used to help developers understand and use the code, and they can also be used by static type checkers to detect type errors in the code.\n",
    "\n",
    "Type hints are written as annotations in the code, using the typing module. For example, here is a simple function with type hints for its arguments and return value:\n",
    "\n",
    "- Python’s type hints provide you with optional static typing to leverage the best of both static and dynamic typing."
   ]
  },
  {
   "cell_type": "code",
   "execution_count": 2,
   "metadata": {},
   "outputs": [
    {
     "name": "stdout",
     "output_type": "stream",
     "text": [
      "Hi John\n"
     ]
    }
   ],
   "source": [
    "\"\"\"\n",
    "The type descriptions are optional but it makes it \n",
    "easier for other developers to read your code and \n",
    "understand the types that you're working with\n",
    "\"\"\"\n",
    "\n",
    "name: str = \"Marvelous\"\n",
    "number: int = 10\n",
    "\n",
    "# using types to descript the parameter types and the function return type\n",
    "def say_hi(name: str) -> str:\n",
    "    return f'Hi {name}'\n",
    "\n",
    "greeting = say_hi('Emanuella')\n",
    "print(greeting)"
   ]
  },
  {
   "cell_type": "code",
   "execution_count": null,
   "metadata": {},
   "outputs": [],
   "source": []
  }
 ],
 "metadata": {
  "kernelspec": {
   "display_name": "Python 3",
   "language": "python",
   "name": "python3"
  },
  "language_info": {
   "codemirror_mode": {
    "name": "ipython",
    "version": 3
   },
   "file_extension": ".py",
   "mimetype": "text/x-python",
   "name": "python",
   "nbconvert_exporter": "python",
   "pygments_lexer": "ipython3",
   "version": "3.11.1 (main, Dec 23 2022, 09:39:26) [Clang 14.0.0 (clang-1400.0.29.202)]"
  },
  "orig_nbformat": 4,
  "vscode": {
   "interpreter": {
    "hash": "1a1af0ee75eeea9e2e1ee996c87e7a2b11a0bebd85af04bb136d915cefc0abce"
   }
  }
 },
 "nbformat": 4,
 "nbformat_minor": 2
}
