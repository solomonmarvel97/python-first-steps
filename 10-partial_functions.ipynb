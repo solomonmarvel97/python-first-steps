{
 "cells": [
  {
   "attachments": {},
   "cell_type": "markdown",
   "metadata": {},
   "source": [
    "# Partial Functions\n",
    "In Python, a partial is a function that allows you to fix some of the arguments of another function. This is useful when you need to use a function with a fixed set of arguments in multiple places, but the arguments that you want to fix are not always the same.\n",
    "\n",
    "For example, suppose you have a function that takes three arguments:\n",
    "\n",
    "- A partial function returns a new partial object that is callable by another function"
   ]
  },
  {
   "cell_type": "code",
   "execution_count": null,
   "metadata": {},
   "outputs": [],
   "source": [
    "def multiply(a, b):\n",
    "    return a*b\n",
    "\n",
    "def double(a):\n",
    "    return multiply(a, 2)\n",
    "\n",
    "result = double(10)\n",
    "print(result) "
   ]
  },
  {
   "attachments": {},
   "cell_type": "markdown",
   "metadata": {},
   "source": [
    "Using *partials* from the python in-built functools library"
   ]
  },
  {
   "cell_type": "code",
   "execution_count": null,
   "metadata": {},
   "outputs": [],
   "source": [
    "# import partials\n",
    "\n",
    "# example 1\n",
    "from functools import partial\n",
    "\n",
    "def multiply(a, b):\n",
    "    return a * b\n",
    "\n",
    "number = 2\n",
    "partial_function = partial(multiply, number) # creates a partial\n",
    "\n",
    "result = partial_function(10)\n",
    "print(result)\n",
    "\n",
    "# example 2\n",
    "\n",
    "from functools import partial\n",
    "\n",
    "def foo(x, y, z):\n",
    "    return x + y + z\n",
    "    \n",
    "foo_with_y_fixed = partial(foo, 5)\n",
    "\n",
    "print(foo_with_y_fixed(1, 2))  # prints 8\n",
    "print(foo_with_y_fixed(3, 4))  # prints 12"
   ]
  },
  {
   "attachments": {},
   "cell_type": "markdown",
   "metadata": {},
   "source": [
    "Note that when you create a partial, you need to specify the arguments in the order in which they appear in the original function. If you want to specify arguments by name, you need to use the functools.partialmethod function."
   ]
  }
 ],
 "metadata": {
  "kernelspec": {
   "display_name": "Python 3",
   "language": "python",
   "name": "python3"
  },
  "language_info": {
   "codemirror_mode": {
    "name": "ipython",
    "version": 3
   },
   "file_extension": ".py",
   "mimetype": "text/x-python",
   "name": "python",
   "nbconvert_exporter": "python",
   "pygments_lexer": "ipython3",
   "version": "3.11.1"
  },
  "orig_nbformat": 4,
  "vscode": {
   "interpreter": {
    "hash": "1a1af0ee75eeea9e2e1ee996c87e7a2b11a0bebd85af04bb136d915cefc0abce"
   }
  }
 },
 "nbformat": 4,
 "nbformat_minor": 2
}
