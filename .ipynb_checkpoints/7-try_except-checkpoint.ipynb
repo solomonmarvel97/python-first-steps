{
 "cells": [
  {
   "cell_type": "markdown",
   "id": "9c9ecd0a",
   "metadata": {},
   "source": [
    "# Try... except\n",
    "\n",
    "The try except code block is used for handling errors in our python code"
   ]
  },
  {
   "cell_type": "code",
   "execution_count": 29,
   "id": "a0e5c67e",
   "metadata": {},
   "outputs": [
    {
     "name": "stdout",
     "output_type": "stream",
     "text": [
      "Marvelous\n",
      "10Marvelous\n",
      "unsupported operand type(s) for /: 'str' and 'int'\n",
      "50\n"
     ]
    }
   ],
   "source": [
    "# try except block\n",
    "\n",
    "number = 10\n",
    "name = \"Marvelous\"\n",
    "print(name)\n",
    "\n",
    "try:\n",
    "    print(str(number) + name)\n",
    "    print(name/number)\n",
    "except Exception as e:\n",
    "    print(e)\n",
    "\n",
    "age = 40\n",
    "print(age + number)"
   ]
  },
  {
   "cell_type": "markdown",
   "id": "e4c87c37",
   "metadata": {},
   "source": [
    "# Try... except ... finally\n",
    "\n",
    "The try except code block is used for handling errors in our python code.\n",
    "The finally section would execute if there's an error or not"
   ]
  },
  {
   "cell_type": "code",
   "execution_count": 62,
   "id": "0d7bdc29",
   "metadata": {},
   "outputs": [
    {
     "name": "stdout",
     "output_type": "stream",
     "text": [
      "Error:  unsupported operand type(s) for /: 'int' and 'str'\n",
      "Error resolution 0.3\n",
      "Finally, We implemented error handling here\n"
     ]
    }
   ],
   "source": [
    "# try except finaly block\n",
    "\n",
    "try:\n",
    "    pass\n",
    "    # fetch some data\n",
    "except Exception as e:\n",
    "    pass\n",
    "    # if it fails, run this instead\n",
    "finally:\n",
    "    pass\n",
    "    # if it works or fail, run this too\n",
    "\n",
    "joy = \"Joy\"\n",
    "ella = \"Emmanuella\"\n",
    "\n",
    "try:\n",
    "    value = len(joy)/ella # this will throw an error\n",
    "    print(value)\n",
    "except Exception as e:\n",
    "    print(\"Error: \", e)\n",
    "    value = len(joy)/len(ella)\n",
    "    print(\"Error resolution\" + \" \" + str(value))\n",
    "finally:\n",
    "    print(\"Finally, We implemented error handling here\")"
   ]
  },
  {
   "cell_type": "markdown",
   "id": "e7f40e0d",
   "metadata": {},
   "source": [
    "# Try... except ... else\n",
    "\n",
    "The try except code block is used for handling errors in our python code.\n",
    "The else section would execute if there's no error"
   ]
  },
  {
   "cell_type": "code",
   "execution_count": 68,
   "id": "bbb1f0ac",
   "metadata": {},
   "outputs": [
    {
     "name": "stdout",
     "output_type": "stream",
     "text": [
      "Error:  unsupported operand type(s) for /: 'int' and 'str'\n",
      "Error resolution 0.3\n"
     ]
    }
   ],
   "source": [
    "joy = \"Joy\"\n",
    "ella = \"Emmanuella\"\n",
    "\n",
    "try:\n",
    "    value = len(joy)/ella # this will throw an error\n",
    "    print(value)\n",
    "except Exception as e:\n",
    "    print(\"Error: \", e)\n",
    "    value = len(joy)/len(ella)\n",
    "    print(\"Error resolution\" + \" \" + str(value))\n",
    "else:\n",
    "    print(\"This would print if there's no error\")"
   ]
  },
  {
   "cell_type": "code",
   "execution_count": null,
   "id": "8efcde57",
   "metadata": {},
   "outputs": [],
   "source": []
  }
 ],
 "metadata": {
  "kernelspec": {
   "display_name": "Python 3 (ipykernel)",
   "language": "python",
   "name": "python3"
  },
  "language_info": {
   "codemirror_mode": {
    "name": "ipython",
    "version": 3
   },
   "file_extension": ".py",
   "mimetype": "text/x-python",
   "name": "python",
   "nbconvert_exporter": "python",
   "pygments_lexer": "ipython3",
   "version": "3.10.9"
  }
 },
 "nbformat": 4,
 "nbformat_minor": 5
}
