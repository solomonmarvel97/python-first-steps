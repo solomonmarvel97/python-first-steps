{
 "cells": [
  {
   "cell_type": "code",
   "execution_count": 1,
   "id": "d2b20c65",
   "metadata": {},
   "outputs": [
    {
     "name": "stdout",
     "output_type": "stream",
     "text": [
      "1\n"
     ]
    }
   ],
   "source": [
    "# Variables\n",
    "# Create a program to generate tickets with qrcodes\n",
    "x = 1\n",
    "x: int = 1\n",
    "print(x)"
   ]
  },
  {
   "cell_type": "code",
   "execution_count": null,
   "id": "682c33d7",
   "metadata": {},
   "outputs": [],
   "source": [
    "# String\n",
    "\n",
    "first_name = \"Marvelous\"\n",
    "last_name = \"Akporowho\"\n",
    "\n",
    "full_name1 = first_name + \" \" + last_name\n",
    "full_name2 = f'{first_name} {last_name}'\n",
    "full_name3 = '{} {}'.format(first_name, last_name)\n",
    "\n",
    "print(full_name1, full_name2, full_name3)"
   ]
  },
  {
   "cell_type": "code",
   "execution_count": 1,
   "id": "8e37e92e",
   "metadata": {},
   "outputs": [
    {
     "name": "stdout",
     "output_type": "stream",
     "text": [
      "9818.75\n"
     ]
    }
   ],
   "source": [
    "# Numbers -> floats and ints\n",
    "\n",
    "number = 1\n",
    "salary = 21_500_000\n",
    "\n",
    "pi = 3.142\n",
    "r = 5\n",
    "\n",
    "# calculate the area of a circle\n",
    "area = pi * r ** r\n",
    "print(area)"
   ]
  },
  {
   "cell_type": "code",
   "execution_count": null,
   "id": "3cb2aea2",
   "metadata": {},
   "outputs": [],
   "source": [
    "# Boolean -> True & False\n",
    "\n",
    "johnIsMarried = True\n",
    "\n",
    "print(type(johnIsMarried))\n",
    "\n",
    "if(not johnIsMarried):\n",
    "    print(\"John is not Married\")\n",
    "else:\n",
    "    print(\"John is married\")"
   ]
  },
  {
   "cell_type": "code",
   "execution_count": null,
   "id": "2844a692",
   "metadata": {},
   "outputs": [],
   "source": [
    "\"\"\"\n",
    "Constants -> Python doesn't support constants, \n",
    "but we use the uppercase letters to show \n",
    "that it is a constant\n",
    "\"\"\"\n",
    "\n",
    "WEBSITE_HOST = 'https://solomonmarve.com'\n",
    "\n",
    "print(WEBSITE_HOST)"
   ]
  },
  {
   "cell_type": "code",
   "execution_count": null,
   "id": "ee9b561d",
   "metadata": {},
   "outputs": [],
   "source": [
    "# comments\n",
    "# Single Line Comment\n",
    "\n",
    "\"\"\"\n",
    "  This is a function to generate a qrcode from the input\n",
    "  collected as UUID\n",
    "\"\"\"\n"
   ]
  },
  {
   "cell_type": "code",
   "execution_count": null,
   "id": "bbc70088",
   "metadata": {},
   "outputs": [],
   "source": [
    "# Type Conversion\n",
    "\n",
    "x: int = 20\n",
    "y = str(x)\n",
    "z = int(y)\n",
    "a = float(z)\n",
    "\n",
    "name = \"10\"\n",
    "other_name = int(name)\n",
    "print(type(a))"
   ]
  },
  {
   "cell_type": "code",
   "execution_count": 90,
   "id": "91ea5a35",
   "metadata": {},
   "outputs": [
    {
     "name": "stdout",
     "output_type": "stream",
     "text": [
      "The name is neither Marvelous nor John\n",
      "1 is an odd number\n",
      "Name is Joy\n",
      "We are live\n",
      "We are live\n",
      "We are live\n",
      "We are live\n",
      "0\n",
      "1\n",
      "2\n",
      "3\n",
      "4\n",
      "5\n",
      "6\n",
      "7\n",
      "8\n",
      "9\n",
      "10\n",
      "11\n",
      "12\n",
      "13\n",
      "14\n",
      "15\n",
      "16\n",
      "17\n",
      "18\n",
      "19\n",
      "20\n",
      "21\n",
      "22\n",
      "23\n",
      "24\n"
     ]
    }
   ],
   "source": [
    "# Control flow\n",
    "\n",
    "# Make a guess game\n",
    "# guess = input('Enter a number frm 0..9, if you are lucky, you will get a reward')\n",
    "# if(int(guess) == 7):\n",
    "#     print('You won')\n",
    "    \n",
    "name = \"Marvelos\"\n",
    "\n",
    "# if conditional control flow\n",
    "if name == \"Marvelous\":\n",
    "    print(name)\n",
    "elif name == \"John\":\n",
    "    print('name is not marv')\n",
    "else:\n",
    "    print('The name is neither Marvelous nor John')\n",
    "\n",
    "    \n",
    "# if statement example 2\n",
    "if 2>5 and 2>1:\n",
    "    print(\"One of this condition is correct\")\n",
    "\n",
    "    \n",
    "# for loop control flow - example 1\n",
    "for i in range(2):\n",
    "    if i == 0:\n",
    "        continue\n",
    "    elif i%2 == 0:\n",
    "        print (f'{i} is an even number')\n",
    "    else:\n",
    "        print(f'{i} is an odd number')\n",
    "        \n",
    "\n",
    "# Function to find the factorial of a given number\n",
    "def factorial(x):\n",
    "    start = 1\n",
    "    for i in range(2, x + 1):\n",
    "        start *= i\n",
    "    return start\n",
    "        \n",
    "factorial(5)\n",
    "\n",
    "\n",
    "# if statement short hand (tenary operator)    \n",
    "condition = True if 5 > 5 else False\n",
    "\n",
    "name = \"Joy\"\n",
    "result = \"Name is Joy\" if name == \"Joy\" else \"Name is not Joy\"\n",
    "print(result)\n",
    "\n",
    "\n",
    "# While loop\n",
    "\n",
    "max = 5\n",
    "count = 1\n",
    "while count < max:\n",
    "    print(\"We are live\")\n",
    "    count += 1\n",
    "    \n",
    "\n",
    "# break keyword\n",
    "for i in range(50):\n",
    "    if(i == 25):\n",
    "        break\n",
    "    print(i)\n"
   ]
  },
  {
   "cell_type": "code",
   "execution_count": null,
   "id": "3ac80a15",
   "metadata": {},
   "outputs": [],
   "source": []
  }
 ],
 "metadata": {
  "kernelspec": {
   "display_name": "Python 3 (ipykernel)",
   "language": "python",
   "name": "python3"
  },
  "language_info": {
   "codemirror_mode": {
    "name": "ipython",
    "version": 3
   },
   "file_extension": ".py",
   "mimetype": "text/x-python",
   "name": "python",
   "nbconvert_exporter": "python",
   "pygments_lexer": "ipython3",
   "version": "3.8.13"
  }
 },
 "nbformat": 4,
 "nbformat_minor": 5
}
