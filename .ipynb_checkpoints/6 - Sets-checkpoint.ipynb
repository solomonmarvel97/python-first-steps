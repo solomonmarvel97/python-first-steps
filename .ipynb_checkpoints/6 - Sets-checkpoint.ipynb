{
 "cells": [
  {
   "cell_type": "markdown",
   "id": "bf822721",
   "metadata": {},
   "source": [
    "# Set\n",
    "\n",
    "A Python set is an unordered list of immutable elements. It means:\n",
    "\n",
    "- Elements in a set are unordered.\n",
    "- Elements in a set are unique. A set doesn’t allow duplicate elements.\n",
    "- Elements in a set cannot be changed. For example, they can be numbers, strings, and tuples, but cannot be lists or dictionaries.\n"
   ]
  },
  {
   "cell_type": "markdown",
   "id": "8f8c1ec3",
   "metadata": {},
   "source": [
    "### Creating a set"
   ]
  },
  {
   "cell_type": "code",
   "execution_count": 72,
   "id": "84c3e7dc",
   "metadata": {},
   "outputs": [
    {
     "name": "stdout",
     "output_type": "stream",
     "text": [
      "{'marvelous', 'linux', 'faith', 'emmanuella'}\n"
     ]
    }
   ],
   "source": [
    "unique_user = {\"marvelous\", \"emmanuella\", \"faith\", \"linux\"}\n",
    "print(unique_user)"
   ]
  },
  {
   "cell_type": "markdown",
   "id": "52f00ea3",
   "metadata": {},
   "source": [
    "### To define an empty set"
   ]
  },
  {
   "cell_type": "code",
   "execution_count": 77,
   "id": "f24854cd",
   "metadata": {},
   "outputs": [
    {
     "name": "stdout",
     "output_type": "stream",
     "text": [
      "set()\n"
     ]
    }
   ],
   "source": [
    "unique_user = set()\n",
    "print(unique_user)"
   ]
  },
  {
   "cell_type": "markdown",
   "id": "a3cdb257",
   "metadata": {},
   "source": [
    "### Clear a set\n",
    "To remove all the items in the set"
   ]
  },
  {
   "cell_type": "code",
   "execution_count": 82,
   "id": "8a69d5e3",
   "metadata": {},
   "outputs": [
    {
     "name": "stdout",
     "output_type": "stream",
     "text": [
      "set()\n"
     ]
    }
   ],
   "source": [
    "unique_user = {\"marvelous\", \"emmanuella\", \"faith\", \"linux\"}\n",
    "unique_user.clear() # cleared the set\n",
    "print(unique_user)"
   ]
  },
  {
   "cell_type": "markdown",
   "id": "45eab947",
   "metadata": {},
   "source": [
    "### Remove\n",
    "This removes an item from the set but resolves in an error if the item is not found in the set"
   ]
  },
  {
   "cell_type": "code",
   "execution_count": 94,
   "id": "7133c0d3",
   "metadata": {},
   "outputs": [
    {
     "name": "stdout",
     "output_type": "stream",
     "text": [
      "{'linux', 'faith', 'emmanuella'}\n"
     ]
    }
   ],
   "source": [
    "unique_user = {\"marvelous\", \"emmanuella\", \"faith\", \"linux\"}\n",
    "unique_user.remove(\"marvelous\")\n",
    "print(unique_user)"
   ]
  },
  {
   "cell_type": "markdown",
   "id": "e3fdf96e",
   "metadata": {},
   "source": [
    "### Discard\n",
    "When using discard, it checks if the item exists in the set before removing the item"
   ]
  },
  {
   "cell_type": "code",
   "execution_count": 125,
   "id": "63aa6347",
   "metadata": {},
   "outputs": [
    {
     "name": "stdout",
     "output_type": "stream",
     "text": [
      "{'linux', 'faith', 'emmanuella'}\n"
     ]
    }
   ],
   "source": [
    "unique_user = {\"marvelous\", \"emmanuella\", \"faith\", \"linux\"}\n",
    "unique_user.discard(\"marvelous\")\n",
    "print(unique_user)"
   ]
  },
  {
   "cell_type": "markdown",
   "id": "8dde500d",
   "metadata": {},
   "source": [
    "### Pop\n",
    "The pop function takes off a random element from the set"
   ]
  },
  {
   "cell_type": "code",
   "execution_count": 129,
   "id": "30822d1d",
   "metadata": {},
   "outputs": [
    {
     "name": "stdout",
     "output_type": "stream",
     "text": [
      "{'mercilia', 'marvelous', 'john', 'melvina', 'zack'}\n"
     ]
    }
   ],
   "source": [
    "person = {\"marvelous\", \"emmanuella\", \"john\", \"zack\", \"melvina\", \"mercilia\"}\n",
    "person.pop()\n",
    "print(person)"
   ]
  },
  {
   "cell_type": "markdown",
   "id": "b4cf345c",
   "metadata": {},
   "source": [
    "### Add \n",
    "Adds items to the set"
   ]
  },
  {
   "cell_type": "code",
   "execution_count": 131,
   "id": "a6b568e5",
   "metadata": {
    "scrolled": true
   },
   "outputs": [
    {
     "name": "stdout",
     "output_type": "stream",
     "text": [
      "{'marvelous', 'mark'}\n"
     ]
    }
   ],
   "source": [
    "unique_user = set()\n",
    "unique_user.add(\"mark\")\n",
    "unique_user.add(\"marvelous\")\n",
    "print(unique_user)"
   ]
  },
  {
   "cell_type": "markdown",
   "id": "4155c8f2",
   "metadata": {},
   "source": [
    "### Frozen\n",
    "Makes a set immutable"
   ]
  },
  {
   "cell_type": "code",
   "execution_count": 138,
   "id": "da288ec2",
   "metadata": {},
   "outputs": [
    {
     "name": "stdout",
     "output_type": "stream",
     "text": [
      "frozenset({'marvelous', 'linux', 'faith', 'emmanuella'})\n"
     ]
    }
   ],
   "source": [
    "unique_user_set = {\"marvelous\", \"emmanuella\", \"faith\", \"linux\"} # our set is mutable\n",
    "frozen_unique_users = frozenset(unique_user_set) # our set becomes immutable\n",
    "print(frozen_unique_users)"
   ]
  },
  {
   "cell_type": "markdown",
   "id": "8e3f95aa",
   "metadata": {},
   "source": [
    "### Set comprehension"
   ]
  },
  {
   "cell_type": "code",
   "execution_count": 144,
   "id": "0dc5a0ba",
   "metadata": {},
   "outputs": [
    {
     "name": "stdout",
     "output_type": "stream",
     "text": [
      "{'MARVELOUS', 'LINUX', 'FAITH', 'EMMANUELLA'}\n"
     ]
    }
   ],
   "source": [
    "unique_user = {\"marvelous\", \"emmanuella\", \"faith\", \"linux\"}\n",
    "uppercase = {user.upper() for user in unique_user}\n",
    "print(uppercase)"
   ]
  },
  {
   "cell_type": "markdown",
   "id": "f1860595",
   "metadata": {},
   "source": [
    "### Union\n",
    "Combining sets together"
   ]
  },
  {
   "cell_type": "code",
   "execution_count": 147,
   "id": "b4937795",
   "metadata": {},
   "outputs": [
    {
     "name": "stdout",
     "output_type": "stream",
     "text": [
      "{'Melvina', 'Amaka', 'Emmanuella', 'Marvelous'}\n"
     ]
    }
   ],
   "source": [
    "users1 = {'Marvelous', 'Melvina'}\n",
    "users2 = {'Amaka', 'Emmanuella', \"Marvelous\"}\n",
    "union = users1.union(users2)\n",
    "print(union)"
   ]
  },
  {
   "cell_type": "markdown",
   "id": "7f613aad",
   "metadata": {},
   "source": [
    "### Intersection\n",
    "This function gives you the similarity in the two sets"
   ]
  },
  {
   "cell_type": "code",
   "execution_count": 150,
   "id": "2055ebb2",
   "metadata": {},
   "outputs": [
    {
     "name": "stdout",
     "output_type": "stream",
     "text": [
      "{'Marvelous'}\n"
     ]
    }
   ],
   "source": [
    "users1 = {'Marvelous', 'Melvina'}\n",
    "users2 = {'Amaka', 'Emmanuella', \"Marvelous\"}\n",
    "intersection = users1.intersection(users2)\n",
    "print(intersection)"
   ]
  },
  {
   "cell_type": "markdown",
   "id": "54bfc0ca",
   "metadata": {},
   "source": [
    "### Difference\n",
    "Gives you the difference in item found in the second"
   ]
  },
  {
   "cell_type": "code",
   "execution_count": 156,
   "id": "2c003b6e",
   "metadata": {},
   "outputs": [
    {
     "name": "stdout",
     "output_type": "stream",
     "text": [
      "{'Joy'}\n"
     ]
    }
   ],
   "source": [
    "users1 = {'Marvelous', 'Melvina', \"Emmanuella\", \"Joy\"}\n",
    "users2 = {'Melvina', 'Emmanuella', \"Marvelous\"}\n",
    "difference = users1.difference(users2)\n",
    "print(difference)"
   ]
  },
  {
   "cell_type": "markdown",
   "id": "c7ed681b",
   "metadata": {},
   "source": [
    "### Symmetric_difference\n",
    "Returns the difference in the set i.e the item that is not on either set"
   ]
  },
  {
   "cell_type": "code",
   "execution_count": 161,
   "id": "30d5c4fc",
   "metadata": {},
   "outputs": [
    {
     "name": "stdout",
     "output_type": "stream",
     "text": [
      "{'Konan', 'Joy'}\n"
     ]
    }
   ],
   "source": [
    "users1 = {'Marvelous', 'Melvina', \"Emmanuella\", \"Joy\"}\n",
    "users2 = {'Melvina', 'Emmanuella', \"Marvelous\", \"Konan\"}\n",
    "symmetric_difference = users1.symmetric_difference(users2)\n",
    "print(symmetric_difference)"
   ]
  },
  {
   "cell_type": "markdown",
   "id": "fa3e170d",
   "metadata": {},
   "source": [
    "### Subset\n",
    "Checks if a set is a subset of another set"
   ]
  },
  {
   "cell_type": "code",
   "execution_count": 164,
   "id": "80c23f87",
   "metadata": {},
   "outputs": [
    {
     "name": "stdout",
     "output_type": "stream",
     "text": [
      "True\n"
     ]
    }
   ],
   "source": [
    "users1 = {'Marvelous', 'Melvina', \"Emmanuella\", \"Joy\"}\n",
    "users2 = {'Melvina', 'Emmanuella'}\n",
    "is_subset = users2.issubset(users1)\n",
    "print(is_subset)"
   ]
  },
  {
   "cell_type": "markdown",
   "id": "bc235db5",
   "metadata": {},
   "source": [
    "### Superset\n",
    "Checks if a set is a superset of another set"
   ]
  },
  {
   "cell_type": "code",
   "execution_count": 61,
   "id": "cdb67daa",
   "metadata": {},
   "outputs": [
    {
     "name": "stdout",
     "output_type": "stream",
     "text": [
      "True\n"
     ]
    }
   ],
   "source": [
    "users1 = {'Marvelous', 'Melvina', \"Emmanuella\", \"Joy\"}\n",
    "users2 = {'Melvina', 'Emmanuella'}\n",
    "is_superset = users1.issuperset(users2)\n",
    "print(is_superset)"
   ]
  },
  {
   "cell_type": "markdown",
   "id": "17fdce27",
   "metadata": {},
   "source": [
    "### Disjoint \n",
    "Checks if both sets do not have anything in common"
   ]
  },
  {
   "cell_type": "code",
   "execution_count": 177,
   "id": "c79f2d9d",
   "metadata": {},
   "outputs": [
    {
     "name": "stdout",
     "output_type": "stream",
     "text": [
      "True\n"
     ]
    }
   ],
   "source": [
    "users1 = {'Marvelous', \"Joy\"}\n",
    "users2 = {'Melvina', 'Emmanuella'}\n",
    "is_disjoint = users1.isdisjoint(users2)\n",
    "print(is_disjoint)"
   ]
  }
 ],
 "metadata": {
  "kernelspec": {
   "display_name": "Python 3",
   "language": "python",
   "name": "python3"
  },
  "language_info": {
   "codemirror_mode": {
    "name": "ipython",
    "version": 3
   },
   "file_extension": ".py",
   "mimetype": "text/x-python",
   "name": "python",
   "nbconvert_exporter": "python",
   "pygments_lexer": "ipython3",
   "version": "3.8.8"
  }
 },
 "nbformat": 4,
 "nbformat_minor": 5
}
