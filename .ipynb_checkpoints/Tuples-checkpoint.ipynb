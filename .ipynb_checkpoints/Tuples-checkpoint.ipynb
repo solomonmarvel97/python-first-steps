{
 "cells": [
  {
   "cell_type": "markdown",
   "id": "a1a2ff60",
   "metadata": {},
   "source": [
    "# Python Tuples\n",
    "Tuples are immutable data structures in python"
   ]
  },
  {
   "cell_type": "code",
   "execution_count": 1,
   "id": "a4e18495",
   "metadata": {},
   "outputs": [
    {
     "name": "stdout",
     "output_type": "stream",
     "text": [
      "('marvelous', 'mark', 'marrieth')\n",
      "marvelous\n"
     ]
    }
   ],
   "source": [
    "names = (\"marvelous\", \"mark\", \"marrieth\")\n",
    "print(names)\n",
    "print(names[0])"
   ]
  },
  {
   "cell_type": "code",
   "execution_count": 2,
   "id": "f891962a",
   "metadata": {},
   "outputs": [
    {
     "name": "stdout",
     "output_type": "stream",
     "text": [
      "('elf', 'dwarf', 'horse')\n"
     ]
    }
   ],
   "source": [
    "CHARACTERS = (\"elf\", \"dwarf\", \"horse\")\n",
    "print(CHARACTERS)"
   ]
  },
  {
   "cell_type": "code",
   "execution_count": 3,
   "id": "441f049d",
   "metadata": {},
   "outputs": [
    {
     "name": "stdout",
     "output_type": "stream",
     "text": [
      "marvelous is a name\n",
      "mark is a name\n",
      "marrieth is a name\n"
     ]
    }
   ],
   "source": [
    "# iterable\n",
    "for name in names:\n",
    "    if name == \"Abraham\":\n",
    "        print('Abraham was found')\n",
    "    print(\"{} is a name\".format(name))"
   ]
  },
  {
   "cell_type": "code",
   "execution_count": null,
   "id": "2fe737bf",
   "metadata": {},
   "outputs": [],
   "source": []
  }
 ],
 "metadata": {
  "kernelspec": {
   "display_name": "Python 3",
   "language": "python",
   "name": "python3"
  },
  "language_info": {
   "codemirror_mode": {
    "name": "ipython",
    "version": 3
   },
   "file_extension": ".py",
   "mimetype": "text/x-python",
   "name": "python",
   "nbconvert_exporter": "python",
   "pygments_lexer": "ipython3",
   "version": "3.8.8"
  }
 },
 "nbformat": 4,
 "nbformat_minor": 5
}
