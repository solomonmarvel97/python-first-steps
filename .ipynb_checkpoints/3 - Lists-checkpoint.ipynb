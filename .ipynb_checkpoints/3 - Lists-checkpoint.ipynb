{
 "cells": [
  {
   "cell_type": "markdown",
   "id": "9729aa2d",
   "metadata": {},
   "source": [
    "# Lists\n",
    "Lists are mutable data structures for holding a collection of similar or different data types"
   ]
  },
  {
   "cell_type": "code",
   "execution_count": 109,
   "id": "25bb548f",
   "metadata": {},
   "outputs": [
    {
     "name": "stdout",
     "output_type": "stream",
     "text": [
      "['Marvelous', 'Abraham', 'Mark', 'Trust']\n",
      "Not found\n",
      "Not found\n",
      "Not found\n",
      "Found\n",
      "['Marvelous', 'Abraham', 'Mark', 'Trust', 'Joy']\n",
      "['Marvelous', 'Abraham', 'Mark', 'Marrieth', 'Trust', 'Joy']\n",
      "['Marvelous', 'Abraham', 'Mark', 'Marrieth', 'Trust']\n",
      "['Marvelous', 'Mark', 'Marrieth', 'Trust']\n",
      "['Mark', 'Marrieth', 'Trust']\n"
     ]
    }
   ],
   "source": [
    "# Python List\n",
    "\n",
    "list = [\"Marvelous\", \"Abraham\", \"Mark\", \"Trust\"]\n",
    "print(list)\n",
    "\n",
    "# the .append method adds items to the tail of our list\n",
    "list.append(\"Joy\")\n",
    "print(list)\n",
    "\n",
    "# the .insert(index, value)\n",
    "list.insert(3, \"Marrieth\")\n",
    "print(list)\n",
    "\n",
    "# removing the last item from the list\n",
    "list.pop()\n",
    "print(list)\n",
    "\n",
    "# removing an item using the index\n",
    "del list[1]\n",
    "print(list)\n",
    "\n",
    "# removing an item using the value of the item\n",
    "list.remove(\"Marvelous\")\n",
    "print(list)"
   ]
  },
  {
   "cell_type": "markdown",
   "id": "11fa7822",
   "metadata": {},
   "source": [
    "### Sorting a python list\n",
    "we use the .sort() and .sort(reverse=True) to sort our python list"
   ]
  },
  {
   "cell_type": "code",
   "execution_count": 72,
   "id": "67a8ac04",
   "metadata": {},
   "outputs": [
    {
     "name": "stdout",
     "output_type": "stream",
     "text": [
      "['Marvelous', 'Joy', 'Emmanuella', 'Abraham']\n"
     ]
    }
   ],
   "source": [
    "list_of_names = [\"Emmanuella\", \"Joy\", \"Marvelous\", \"Abraham\"]\n",
    "# sorting our list in ascending order\n",
    "list_of_names.sort()\n",
    "\n",
    "# sorting our list in descending order\n",
    "list_of_names.sort(reverse=True)\n",
    "\n",
    "print(list_of_names)"
   ]
  },
  {
   "cell_type": "markdown",
   "id": "a94f69e9",
   "metadata": {},
   "source": [
    "### Slicing a list in python"
   ]
  },
  {
   "cell_type": "code",
   "execution_count": 105,
   "id": "6bbe5ebc",
   "metadata": {},
   "outputs": [
    {
     "name": "stdout",
     "output_type": "stream",
     "text": [
      "['Emmanuella', 'Joy', 'Marrieth', 'Marvelous', 'Melvina', 'Mercilia', 'Praise', 'Prince']\n",
      "['Emmanuella', 'Joy', 'Marrieth', 'Marvelous', 'Melvina', 'Mercilia']\n"
     ]
    }
   ],
   "source": [
    "names = [\"Emmanuella\", \"Joy\", \"Marvelous\", \"Marrieth\", \"Praise\", \"Prince\", \"Melvina\", \"Mercilia\"]\n",
    "names.sort()\n",
    "print(names)\n",
    "\n",
    "# slicing items from index 1 through 4\n",
    "print(names[1:4])\n",
    "\n",
    "# slicing items from index 0 to -2\n",
    "print(names[:-2])"
   ]
  },
  {
   "cell_type": "markdown",
   "id": "30d283fe",
   "metadata": {},
   "source": [
    "### Unpacking a list in python\n",
    "Use the unpack pattern for list item destructuring.\n",
    "It makes your code more concise"
   ]
  },
  {
   "cell_type": "code",
   "execution_count": 2,
   "id": "281cdd0a",
   "metadata": {},
   "outputs": [
    {
     "name": "stdout",
     "output_type": "stream",
     "text": [
      "Marvelous Mark Marrieth\n",
      "['Mark', 'Marrieth']\n"
     ]
    }
   ],
   "source": [
    "names = [\"Marvelous\", \"Mark\", \"Marrieth\"]\n",
    "marvelous, mark, marrieth = names\n",
    "print(marvelous, mark, marrieth)\n",
    "\n",
    "# You can use the (*) to unpack the left overs into another list\n",
    "marvelous, *others = names\n",
    "print(others)"
   ]
  },
  {
   "cell_type": "markdown",
   "id": "46e9b1a9",
   "metadata": {},
   "source": [
    "### Looping through a python list"
   ]
  },
  {
   "cell_type": "code",
   "execution_count": 7,
   "id": "d2303b66",
   "metadata": {},
   "outputs": [
    {
     "name": "stdout",
     "output_type": "stream",
     "text": [
      "Marvelous\n",
      "Mark\n",
      "Marrieth\n",
      "0->Marvelous\n",
      "1->Mark\n",
      "2->Marrieth\n"
     ]
    }
   ],
   "source": [
    "names = [\"Marvelous\", \"Mark\", \"Marrieth\"]\n",
    "\n",
    "# simple for loop (looping through the items in the list)\n",
    "for i in names:\n",
    "    print(i)\n",
    "\n",
    "\"\"\"\n",
    "The enumerate() function returns a tuple that contains \n",
    "the current index and element of the list.\n",
    "\"\"\"\n",
    "for i, city in enumerate(names):\n",
    "    print(str(i) + '->' + city)"
   ]
  },
  {
   "cell_type": "markdown",
   "id": "260ba5f4",
   "metadata": {},
   "source": [
    "### Find the index of an element in a list"
   ]
  },
  {
   "cell_type": "code",
   "execution_count": 12,
   "id": "59700d80",
   "metadata": {},
   "outputs": [
    {
     "name": "stdout",
     "output_type": "stream",
     "text": [
      "1\n"
     ]
    }
   ],
   "source": [
    "names = [\"Marvelous\", \"Mark\", \"Marrieth\"]\n",
    "print(names.index('Mark'))"
   ]
  },
  {
   "cell_type": "markdown",
   "id": "222d8067",
   "metadata": {},
   "source": [
    "### Map, Reduce & Filter\n",
    "List Transformations in Python"
   ]
  },
  {
   "cell_type": "code",
   "execution_count": 30,
   "id": "8f8fdbf9",
   "metadata": {},
   "outputs": [
    {
     "name": "stdout",
     "output_type": "stream",
     "text": [
      "[11, 12, 13, 14, 15]\n",
      "[2, 4]\n",
      "15\n"
     ]
    }
   ],
   "source": [
    "numbers = [1,2,3,4,5]\n",
    "\n",
    "# Map (map(function, list))\n",
    "# write a python code to add 10 to each value in our list\n",
    "result = map(lambda item: item + 10, numbers)\n",
    "print(list(result))\n",
    "\n",
    "\n",
    "# Filter (filter(function, list))\n",
    "# write a python code to filter the items that are divisible by 2\n",
    "result = filter(lambda item: item % 2 == 0, numbers)\n",
    "print(list(result))\n",
    "\n",
    "\n",
    "# Reduce (reduce(function, list))\n",
    "# we use the reduce function to reduce a list into a single value\n",
    "from functools import reduce\n",
    "result = reduce(lambda a, b: a + b , numbers)\n",
    "print(result)"
   ]
  },
  {
   "cell_type": "markdown",
   "id": "65fc3054",
   "metadata": {},
   "source": [
    "### Python List Comprehension\n",
    "List comprehensions that allow you to create a new list from an existing one."
   ]
  },
  {
   "cell_type": "code",
   "execution_count": 34,
   "id": "cf3855c0",
   "metadata": {},
   "outputs": [
    {
     "name": "stdout",
     "output_type": "stream",
     "text": [
      "[1, 4, 9, 16, 25]\n",
      "[2, 4]\n"
     ]
    }
   ],
   "source": [
    "numbers = [1, 2, 3, 4, 5]\n",
    "\n",
    "# This is an example using a list, map and lambda expression in a single line\n",
    "squares = list(map(lambda number: number**2, numbers))\n",
    "print(squares)\n",
    "\n",
    "# This is an example iterating through a list and checking for a condition\n",
    "result = [i for i in numbers if i % 2 == 0]\n",
    "print(result)"
   ]
  }
 ],
 "metadata": {
  "kernelspec": {
   "display_name": "Python 3",
   "language": "python",
   "name": "python3"
  },
  "language_info": {
   "codemirror_mode": {
    "name": "ipython",
    "version": 3
   },
   "file_extension": ".py",
   "mimetype": "text/x-python",
   "name": "python",
   "nbconvert_exporter": "python",
   "pygments_lexer": "ipython3",
   "version": "3.8.8"
  }
 },
 "nbformat": 4,
 "nbformat_minor": 5
}
