{
 "cells": [
  {
   "attachments": {},
   "cell_type": "markdown",
   "id": "9c9ecd0a",
   "metadata": {},
   "source": [
    "# Try... except\n",
    "\n",
    "In Python, try and except are used to handle exceptions.\n",
    "\n",
    "An exception is an error that occurs during the execution of a program. When an exception occurs, it can disrupt the normal flow of program execution, which is why it's important to handle exceptions properly.\n",
    "\n",
    "The try statement allows you to define a block of code that might cause an exception to be raised. The except statement allows you to handle the exception and specify what should happen if an exception occurs.\n",
    "\n",
    "Here's an example of how try and except can be used in Python:"
   ]
  },
  {
   "cell_type": "code",
   "execution_count": null,
   "id": "a0e5c67e",
   "metadata": {},
   "outputs": [],
   "source": [
    "# try except block\n",
    "\n",
    "number = 10\n",
    "name = \"Marvelous\"\n",
    "print(name)\n",
    "\n",
    "try:\n",
    "    print(str(number) + name)\n",
    "    print(name/number)\n",
    "except Exception as e:\n",
    "    print(e)\n",
    "\n",
    "age = 40\n",
    "print(age + number)"
   ]
  },
  {
   "attachments": {},
   "cell_type": "markdown",
   "id": "e4c87c37",
   "metadata": {},
   "source": [
    "# Try... except ... finally\n",
    "\n",
    "In Python, the try and except statements are used to handle exceptions, which are events that can disrupt the normal flow of a program's instructions. The finally statement is used to define a block of code that will always be executed, whether or not an exception occurs."
   ]
  },
  {
   "cell_type": "code",
   "execution_count": null,
   "id": "0d7bdc29",
   "metadata": {},
   "outputs": [],
   "source": [
    "# try except finaly block\n",
    "\n",
    "try:\n",
    "    pass\n",
    "    # fetch some data\n",
    "except Exception as e:\n",
    "    pass\n",
    "    # if it fails, run this instead\n",
    "finally:\n",
    "    pass\n",
    "    # if it works or fail, run this too\n",
    "\n",
    "joy = \"Joy\"\n",
    "ella = \"Emmanuella\"\n",
    "\n",
    "try:\n",
    "    value = len(joy)/ella # this will throw an error\n",
    "    print(value)\n",
    "except Exception as e:\n",
    "    print(\"Error: \", e)\n",
    "    value = len(joy)/len(ella)\n",
    "    print(\"Error resolution\" + \" \" + str(value))\n",
    "finally:\n",
    "    print(\"Finally, We implemented error handling here\")"
   ]
  },
  {
   "attachments": {},
   "cell_type": "markdown",
   "id": "e7f40e0d",
   "metadata": {},
   "source": [
    "# Try... except ... else\n",
    "\n",
    "In Python, the try and except statements are used to handle exceptions, which are runtime errors that can occur when executing a program. The try block contains code that may throw an exception, and the except block contains code that will be executed if an exception is thrown.\n",
    "\n",
    "The else clause is optional and is used to specify a block of code that should be executed only if the try block does not throw an exception"
   ]
  },
  {
   "cell_type": "code",
   "execution_count": null,
   "id": "bbb1f0ac",
   "metadata": {},
   "outputs": [],
   "source": [
    "joy = \"Joy\"\n",
    "ella = \"Emmanuella\"\n",
    "\n",
    "try:\n",
    "    value = len(joy)/ella # this will throw an error\n",
    "    print(value)\n",
    "except Exception as e:\n",
    "    print(\"Error: \", e)\n",
    "    value = len(joy)/len(ella)\n",
    "    print(\"Error resolution\" + \" \" + str(value))\n",
    "else:\n",
    "    print(\"This would print if there's no error\")"
   ]
  }
 ],
 "metadata": {
  "kernelspec": {
   "display_name": "Python 3 (ipykernel)",
   "language": "python",
   "name": "python3"
  },
  "language_info": {
   "codemirror_mode": {
    "name": "ipython",
    "version": 3
   },
   "file_extension": ".py",
   "mimetype": "text/x-python",
   "name": "python",
   "nbconvert_exporter": "python",
   "pygments_lexer": "ipython3",
   "version": "3.10.9"
  }
 },
 "nbformat": 4,
 "nbformat_minor": 5
}
