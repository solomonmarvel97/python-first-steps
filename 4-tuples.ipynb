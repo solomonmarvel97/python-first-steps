{
 "cells": [
  {
   "attachments": {},
   "cell_type": "markdown",
   "id": "a1a2ff60",
   "metadata": {},
   "source": [
    "# Python Tuples\n",
    "In Python, a tuple is an immutable sequence type. This means that once you create a tuple, you cannot change the values it contains: you cannot add, remove, or modify the values of any of the elements in the tuple.\n",
    "\n",
    "Tuples are defined using parentheses, with the elements separated by commas."
   ]
  },
  {
   "cell_type": "code",
   "execution_count": null,
   "id": "a4e18495",
   "metadata": {},
   "outputs": [],
   "source": [
    "names = (\"marvelous\", \"mark\", \"marrieth\")\n",
    "print(names)\n",
    "print(names[0])"
   ]
  },
  {
   "cell_type": "code",
   "execution_count": null,
   "id": "f891962a",
   "metadata": {},
   "outputs": [],
   "source": [
    "CHARACTERS = (\"elf\", \"dwarf\", \"horse\")\n",
    "print(CHARACTERS)"
   ]
  },
  {
   "cell_type": "code",
   "execution_count": null,
   "id": "441f049d",
   "metadata": {},
   "outputs": [],
   "source": [
    "# iterable\n",
    "for name in names:\n",
    "    if name == \"Abraham\":\n",
    "        print('Abraham was found')\n",
    "    print(\"{} is a name\".format(name))"
   ]
  }
 ],
 "metadata": {
  "kernelspec": {
   "display_name": "Python 3",
   "language": "python",
   "name": "python3"
  },
  "language_info": {
   "codemirror_mode": {
    "name": "ipython",
    "version": 3
   },
   "file_extension": ".py",
   "mimetype": "text/x-python",
   "name": "python",
   "nbconvert_exporter": "python",
   "pygments_lexer": "ipython3",
   "version": "3.8.8"
  }
 },
 "nbformat": 4,
 "nbformat_minor": 5
}
