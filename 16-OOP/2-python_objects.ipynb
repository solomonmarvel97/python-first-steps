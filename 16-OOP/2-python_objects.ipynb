{
 "cells": [
  {
   "attachments": {},
   "cell_type": "markdown",
   "metadata": {},
   "source": [
    "# Python Objects\n",
    "Everything in Python is an object. Objects are basic building blocks of a Python OOP program.\n",
    "\n",
    "```\n",
    "import sys\n",
    "\n",
    "def function():\n",
    "    pass\n",
    "\n",
    "print(type(1))\n",
    "print(type(\"\"))\n",
    "print(type([]))\n",
    "print(type({}))\n",
    "print(type(()))\n",
    "print(type(object))\n",
    "print(type(function))\n",
    "print(type(sys))\n",
    "```\n",
    "\n",
    "In this example we show that all these entities are in fact objects. The type function returns the type of the object specified.\n",
    "\n",
    "```\n",
    "$ ./object_types.py \n",
    "<class 'int'>\n",
    "<class 'str'>\n",
    "<class 'list'>\n",
    "<class 'dict'>\n",
    "<class 'tuple'>\n",
    "<class 'type'>\n",
    "<class 'function'>\n",
    "<class 'module'>\n",
    "```\n",
    "\n",
    "Integers, strings, lists, dictionaries, tuples, functions, and modules are Python objects."
   ]
  }
 ],
 "metadata": {
  "kernelspec": {
   "display_name": "Python 3",
   "language": "python",
   "name": "python3"
  },
  "language_info": {
   "name": "python",
   "version": "3.11.1 (main, Dec 23 2022, 09:39:26) [Clang 14.0.0 (clang-1400.0.29.202)]"
  },
  "orig_nbformat": 4,
  "vscode": {
   "interpreter": {
    "hash": "1a1af0ee75eeea9e2e1ee996c87e7a2b11a0bebd85af04bb136d915cefc0abce"
   }
  }
 },
 "nbformat": 4,
 "nbformat_minor": 2
}
