{
 "cells": [
  {
   "attachments": {},
   "cell_type": "markdown",
   "metadata": {},
   "source": [
    "### Python polymorphism\n",
    "Polymorphism is the process of using an operator or function in different ways for different data input. In practical terms, polymorphism means that if class B inherits from class A, it doesn't have to inherit everything about class A; it can do some of the things that class A does differently.\n",
    "```\n",
    "# basic_polymorphism.py\n",
    "\n",
    "a = \"alfa\"\n",
    "b = (1, 2, 3, 4)\n",
    "c = ['o', 'm', 'e', 'g', 'a']\n",
    "\n",
    "print(a[2])\n",
    "print(b[1])\n",
    "print(c[3])\n",
    "```\n",
    "\n",
    "Python uses polymorphism extensively in built-in types. Here we use the same indexing operator for three different data types.\n",
    "\n",
    "Polymorphism is mostly used when dealing with inheritance.\n",
    "```\n",
    "# polymorphism.py\n",
    "\n",
    "class Animal:\n",
    "   def __init__(self, name=''):\n",
    "      self.name = name\n",
    "\n",
    "   def talk(self):\n",
    "      pass\n",
    "\n",
    "class Cat(Animal):\n",
    "   def talk(self):\n",
    "      print(\"Meow!\")\n",
    "\n",
    "class Dog(Animal):\n",
    "   def talk(self):\n",
    "      print(\"Woof!\")\n",
    "\n",
    "a = Animal()\n",
    "a.talk()\n",
    "\n",
    "c = Cat(\"Missy\")\n",
    "c.talk()\n",
    "\n",
    "d = Dog(\"Rocky\")\n",
    "d.talk()\n",
    "```\n",
    "\n",
    "Here we have two species: a dog and a cat. Both are animals. The Dog class and the Cat class inherit the Animal class. They have a talk method, which gives different output for them.\n",
    "```\n",
    "$ ./polymorphism.py \n",
    "Meow!\n",
    "Woof!\n",
    "```"
   ]
  },
  {
   "cell_type": "markdown",
   "metadata": {},
   "source": []
  }
 ],
 "metadata": {
  "kernelspec": {
   "display_name": "Python 3",
   "language": "python",
   "name": "python3"
  },
  "language_info": {
   "name": "python",
   "version": "3.11.1 (main, Dec 23 2022, 09:39:26) [Clang 14.0.0 (clang-1400.0.29.202)]"
  },
  "orig_nbformat": 4,
  "vscode": {
   "interpreter": {
    "hash": "1a1af0ee75eeea9e2e1ee996c87e7a2b11a0bebd85af04bb136d915cefc0abce"
   }
  }
 },
 "nbformat": 4,
 "nbformat_minor": 2
}
