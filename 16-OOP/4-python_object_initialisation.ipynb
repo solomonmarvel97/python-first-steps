{
 "cells": [
  {
   "attachments": {},
   "cell_type": "markdown",
   "metadata": {},
   "source": [
    "### Python object initialization\n",
    "A special method called __init__ is used to initialize an object.\n",
    "```\n",
    "# object_initialization.py\n",
    "\n",
    "class Being:\n",
    "    def __init__(self):\n",
    "        print(\"Being is initialized\")\n",
    "\n",
    "Being()\n",
    "```"
   ]
  }
 ],
 "metadata": {
  "kernelspec": {
   "display_name": "Python 3",
   "language": "python",
   "name": "python3"
  },
  "language_info": {
   "name": "python",
   "version": "3.11.1 (main, Dec 23 2022, 09:39:26) [Clang 14.0.0 (clang-1400.0.29.202)]"
  },
  "orig_nbformat": 4,
  "vscode": {
   "interpreter": {
    "hash": "1a1af0ee75eeea9e2e1ee996c87e7a2b11a0bebd85af04bb136d915cefc0abce"
   }
  }
 },
 "nbformat": 4,
 "nbformat_minor": 2
}
