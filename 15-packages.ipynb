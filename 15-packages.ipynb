{
 "cells": [
  {
   "attachments": {},
   "cell_type": "markdown",
   "metadata": {},
   "source": [
    "# Creating python packages\n",
    "\n",
    "To create a package in Python, you will need to follow these steps:\n",
    "\n",
    "- Create a directory for your package, with a descriptive name that reflects the contents of the package.\n",
    "\n",
    "- Inside the package directory, create a file named __init__.py. This file can be empty, or it can contain code that runs when the package is imported.\n",
    "\n",
    "- Create one or more Python modules (i.e., files ending in .py) that contain the code you want to include in the package.\n",
    "\n",
    "- Optionally, create a setup.py file at the top level of your package. This file can be used to specify metadata about your package, such as its name, version, and dependencies, and to automate the process of installing and distributing your package.\n",
    "\n",
    "- Optionally, create a README.md file that describes the contents and purpose of your package, and any other relevant information.\n",
    "\n",
    "For example, suppose you want to create a package called mypkg that contains a module mymod.py. Here's how you might structure your package:\n",
    "\n",
    "```\n",
    "mypkg/\n",
    "├── __init__.py\n",
    "├── mymod.py\n",
    "└── setup.py\n",
    "```\n",
    "\n",
    "To use your package in another Python script, you would import it using the following syntax:\n",
    "```\n",
    "import mypkg.mymod\n",
    "```\n",
    "\n",
    "You can then access the contents of the package using the dot notation:\n",
    "```\n",
    "mypkg.mymod.somefunction()\n",
    "```"
   ]
  }
 ],
 "metadata": {
  "kernelspec": {
   "display_name": "Python 3",
   "language": "python",
   "name": "python3"
  },
  "language_info": {
   "name": "python",
   "version": "3.11.1 (main, Dec 23 2022, 09:39:26) [Clang 14.0.0 (clang-1400.0.29.202)]"
  },
  "orig_nbformat": 4,
  "vscode": {
   "interpreter": {
    "hash": "1a1af0ee75eeea9e2e1ee996c87e7a2b11a0bebd85af04bb136d915cefc0abce"
   }
  }
 },
 "nbformat": 4,
 "nbformat_minor": 2
}
