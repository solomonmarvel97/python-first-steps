{
 "cells": [
  {
   "cell_type": "markdown",
   "id": "c19748de",
   "metadata": {},
   "source": [
    "# Loop else Clause\n",
    "for .. else\n",
    "while .. else"
   ]
  },
  {
   "attachments": {},
   "cell_type": "markdown",
   "id": "1c30825c",
   "metadata": {},
   "source": [
    "### For... else\n",
    "In Python, the for statement is used to iterate over a sequence (such as a list, tuple, or string) or other iterable object. The else clause in a for loop is optional and is executed only if the loop completed normally (that is, if the loop was not interrupted by a break statement).\n",
    "- The else clause would execute if our iteration or loop executes normally without breaking\n",
    "- The else clause will also execute if the loop is empty"
   ]
  },
  {
   "cell_type": "code",
   "execution_count": null,
   "id": "ea0cf92e",
   "metadata": {},
   "outputs": [],
   "source": [
    "items = [1,2]\n",
    "\n",
    "for i in items:\n",
    "    print(\"number\", i)\n",
    "    \n",
    "    # if we break the loop at some point the else would not work\n",
    "    if(i == 2):\n",
    "        break\n",
    "else:\n",
    "    print(\"The loop is either empty or did not run normally\")"
   ]
  },
  {
   "attachments": {},
   "cell_type": "markdown",
   "id": "dfa9f38a",
   "metadata": {},
   "source": [
    "### While... else\n",
    "In Python, the while loop executes a block of code repeatedly as long as a certain condition is true. The else clause in a while loop in Python is optional and is executed only when the condition in the while loop becomes False. It is not executed if the loop is terminated by a break statement."
   ]
  },
  {
   "cell_type": "code",
   "execution_count": null,
   "id": "a75e15eb",
   "metadata": {},
   "outputs": [],
   "source": [
    "items = [1,2,3,4,5]\n",
    "count = 0\n",
    "\n",
    "while count < len(items):\n",
    "    count = count + 1\n",
    "    if(count == 4):\n",
    "        break\n",
    "    print(count)\n",
    "else:\n",
    "    print(\"The loop is either empty or did not run normally\")"
   ]
  },
  {
   "attachments": {},
   "cell_type": "markdown",
   "id": "810dff72",
   "metadata": {},
   "source": [
    "# Infinite While Loop\n",
    "\n",
    "Creating an infinite loop with while loop\n",
    "An infinite while loop is a loop that continues to execute indefinitely because the condition being tested is always true\n",
    "\n",
    "Infinite while loops can be useful in certain situations, such as when you want to continuously monitor a system or process for changes. However, it is important to make sure that the loop has a way to exit, or it will run indefinitely and potentially cause issues with your program. You can use the break statement to exit the loop when a certain condition is met."
   ]
  },
  {
   "cell_type": "code",
   "execution_count": null,
   "id": "21fa39ca",
   "metadata": {},
   "outputs": [],
   "source": [
    "count = 0\n",
    "\n",
    "while True:\n",
    "    count = count + 1\n",
    "    print(count)\n",
    "    if(count == 1_900_000):\n",
    "        break"
   ]
  }
 ],
 "metadata": {
  "kernelspec": {
   "display_name": "Python 3",
   "language": "python",
   "name": "python3"
  },
  "language_info": {
   "codemirror_mode": {
    "name": "ipython",
    "version": 3
   },
   "file_extension": ".py",
   "mimetype": "text/x-python",
   "name": "python",
   "nbconvert_exporter": "python",
   "pygments_lexer": "ipython3",
   "version": "3.11.1 (main, Dec 23 2022, 09:39:26) [Clang 14.0.0 (clang-1400.0.29.202)]"
  },
  "vscode": {
   "interpreter": {
    "hash": "1a1af0ee75eeea9e2e1ee996c87e7a2b11a0bebd85af04bb136d915cefc0abce"
   }
  }
 },
 "nbformat": 4,
 "nbformat_minor": 5
}
