{
 "cells": [
  {
   "attachments": {},
   "cell_type": "markdown",
   "metadata": {},
   "source": [
    "# Working with python libraries\n",
    "\n",
    "For shorts, a python library is a collection of packages\n",
    "\n",
    "Python has a large standard library that you can use right away. \n",
    "\n",
    "If you require a package that is not included in the standard library, you can look it up on the Python Package Index.\n",
    "\n",
    "The largest Python repository is the Python Package Index (PyPI). It includes a large number of Python packages created and maintained by the Python community.\n",
    "\n",
    "You can use the search box to find a package. For example, you can use the requests keyword to find packages that deal with HTTP requests.\n",
    "\n",
    "Many relevant packages will be displayed in the search results. You can get more information about each package by clicking the corresponding link.\n",
    "\n",
    "You can install the python *request* library using the command globally or in a virtual environment using the command bellow:\n",
    "```\n",
    "pip install requests\n",
    "```\n",
    "\n",
    "This library would be downloaded from the https://pypi.org repository.\n",
    "\n",
    "Then try it out by creating a new python file called main.py and entering the codeblock bellow:\n",
    "```\n",
    "import requests\n",
    "response = requests.get('https://pypi.org/')\n",
    "print(response.status_code)\n",
    "```\n",
    "\n",
    "### More on python libraries\n",
    "A Python library is a collection of pre-written Python code that you can use in your own programs to perform specific tasks or operations. Libraries are useful because they provide a way for you to reuse code that has already been written and tested, saving you the time and effort of writing that code yourself.\n",
    "\n",
    "There are many Python libraries available, covering a wide range of functionality. Some common libraries include:\n",
    "\n",
    "- NumPy: a library for working with large, multi-dimensional arrays and matrices of numerical data\n",
    "- pandas: a library for working with data in a tabular form, such as data frames\n",
    "- matplotlib: a library for creating static, animated, and interactive visualizations\n",
    "- scikit-learn: a library for machine learning tasks, including classification, regression, and clustering\n",
    "- requests: a library for making HTTP requests to web servers\n",
    "\n",
    "To use a library in a Python program, you will typically need to install it first, using a package manager such as pip. Then, you can import the library into your program using the import statement. For example, to use the NumPy library, you would include the following line at the top of your Python script:\n",
    "```\n",
    "import numpy as np\n",
    "```\n",
    "\n",
    "This imports the NumPy library and gives it the alias np, so that you can refer to it as np in your code. You can then use functions and other resources from the library by calling them using the np.function_name syntax."
   ]
  },
  {
   "cell_type": "markdown",
   "metadata": {},
   "source": []
  }
 ],
 "metadata": {
  "language_info": {
   "name": "python"
  },
  "orig_nbformat": 4
 },
 "nbformat": 4,
 "nbformat_minor": 2
}
