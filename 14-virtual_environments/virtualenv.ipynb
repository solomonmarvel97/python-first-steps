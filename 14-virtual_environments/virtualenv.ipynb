{
 "cells": [
  {
   "attachments": {},
   "cell_type": "markdown",
   "metadata": {},
   "source": [
    "# Working with Virutal Environments\n",
    "\n",
    "virtualenv is a tool used to isolate specific Python environments on a single machine, allowing you to work with multiple versions of Python packages and libraries without conflicts. This can be useful if you need to work on multiple projects that require different versions of packages, or if you want to test your code on multiple versions of Python.\n",
    "\n",
    "Here's how you can use virtualenv:\n",
    "\n",
    "- Install virtualenv:\n",
    "```\n",
    "pip install virtualenv\n",
    "```\n",
    "\n",
    "- Create a new virtual environment:\n",
    "```\n",
    "virtualenv myenv\n",
    "```\n",
    "This will create a new directory called \"myenv\" that contains a copy of the Python interpreter and libraries, as well as a script called activate that you can use to activate the environment.\n",
    "\n",
    "- Activate the virtual environment:\n",
    "```\n",
    "source myenv/bin/activate\n",
    "```\n",
    "This will modify your shell prompt to indicate that you are now working in the virtual environment. Your virtual environment will also be the default Python interpreter until you deactivate it.\n",
    "\n",
    "- Install packages: With the virtual environment active, you can now install packages using pip as you normally would. These packages will be installed in the virtual environment, rather than globally on your system.\n",
    "\n",
    "```\n",
    "pip install <package-name>\n",
    "```\n",
    "\n",
    "- Deactivate the virtual environment: When you are finished working in the virtual environment, you can deactivate it by running the following command:\n",
    "```\n",
    "deactivate\n",
    "```\n",
    "This will restore the original Python interpreter and libraries, and remove the virtual environment from your shell prompt."
   ]
  }
 ],
 "metadata": {
  "kernelspec": {
   "display_name": "Python 3",
   "language": "python",
   "name": "python3"
  },
  "language_info": {
   "name": "python",
   "version": "3.11.1 (main, Dec 23 2022, 09:39:26) [Clang 14.0.0 (clang-1400.0.29.202)]"
  },
  "orig_nbformat": 4,
  "vscode": {
   "interpreter": {
    "hash": "1a1af0ee75eeea9e2e1ee996c87e7a2b11a0bebd85af04bb136d915cefc0abce"
   }
  }
 },
 "nbformat": 4,
 "nbformat_minor": 2
}
