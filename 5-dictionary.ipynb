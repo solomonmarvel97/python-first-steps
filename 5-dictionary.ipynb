{
 "cells": [
  {
   "attachments": {},
   "cell_type": "markdown",
   "id": "4604d55a",
   "metadata": {},
   "source": [
    "# Python Dictionaries\n",
    "A dictionary is a built-in data type in Python that stores data in key-value pair format. It is similar to a list or an array in that it stores a key-value pair at each index rather than a single value. A dictionary's keys must be unique, and they are used to access the corresponding values."
   ]
  },
  {
   "cell_type": "code",
   "execution_count": 32,
   "id": "1f8ac638",
   "metadata": {},
   "outputs": [
    {
     "data": {
      "text/plain": [
       "'Lead Engineer'"
      ]
     },
     "execution_count": 32,
     "metadata": {},
     "output_type": "execute_result"
    }
   ],
   "source": [
    "# create a new dictionary\n",
    "dict = {\n",
    "    \"name\" : \"Marvelous\",\n",
    "    \"age\" : 40,\n",
    "    \"department\": \"Software Engineering\"\n",
    "}"
   ]
  },
  {
   "cell_type": "markdown",
   "id": "b58b70e0",
   "metadata": {},
   "source": [
    "### add a new key value pair"
   ]
  },
  {
   "cell_type": "code",
   "execution_count": 33,
   "id": "71caa3fa",
   "metadata": {},
   "outputs": [],
   "source": [
    "# add a new key value pair\n",
    "dict[\"job title\"] = \"Lead Engineer\""
   ]
  },
  {
   "cell_type": "markdown",
   "id": "95cd3b5f",
   "metadata": {},
   "source": [
    "### fetch item using key"
   ]
  },
  {
   "cell_type": "code",
   "execution_count": 34,
   "id": "a0ed833b",
   "metadata": {},
   "outputs": [],
   "source": [
    "# fetch item using key\n",
    "name = dict[\"name\"]\n",
    "age = dict[\"age\"]\n",
    "department = dict[\"department\"]\n",
    "job_title = dict[\"job title\"]"
   ]
  },
  {
   "cell_type": "markdown",
   "id": "7e5bfd0c",
   "metadata": {},
   "source": [
    "### fetch item using the .get(<key>)"
   ]
  },
  {
   "cell_type": "code",
   "execution_count": 35,
   "id": "39706e47",
   "metadata": {},
   "outputs": [
    {
     "data": {
      "text/plain": [
       "'Lead Engineer'"
      ]
     },
     "execution_count": 35,
     "metadata": {},
     "output_type": "execute_result"
    }
   ],
   "source": [
    "# fetch item using the .get(<key>)\n",
    "dict.get(\"name\")\n",
    "dict.get(\"age\")\n",
    "dict.get(\"job title\")"
   ]
  },
  {
   "cell_type": "markdown",
   "id": "202a13e5",
   "metadata": {},
   "source": [
    "### delete items from a dictionary using del"
   ]
  },
  {
   "cell_type": "code",
   "execution_count": 38,
   "id": "518febab",
   "metadata": {},
   "outputs": [
    {
     "name": "stdout",
     "output_type": "stream",
     "text": [
      "{'age': 40, 'department': 'Software Engineering'}\n"
     ]
    }
   ],
   "source": [
    "dict = {\n",
    "    \"name\" : \"Marvelous\",\n",
    "    \"age\" : 40,\n",
    "    \"department\": \"Software Engineering\"\n",
    "}\n",
    "\n",
    "del dict[\"name\"]\n",
    "print(dict)"
   ]
  },
  {
   "cell_type": "markdown",
   "id": "dc63dc46",
   "metadata": {},
   "source": [
    "### iterate through a dictionary"
   ]
  },
  {
   "cell_type": "code",
   "execution_count": 83,
   "id": "aa99cabf",
   "metadata": {
    "scrolled": true
   },
   "outputs": [],
   "source": [
    "dict = {\n",
    "    \"name\" : \"Marvelous\",\n",
    "    \"age\" : 40,\n",
    "    \"department\": \"Software Engineering\"\n",
    "}\n",
    "\n",
    "# iterate over a dictionary\n",
    "for i in dict.values():\n",
    "    pass\n",
    "\n",
    "\n",
    "# iterate over a list of dictionaries\n",
    "array_of_dict = [\n",
    "    {\n",
    "        \"id\" : '09812hAA',\n",
    "        \"name\" : \"Marvelous\",\n",
    "        \"age\" : 40,\n",
    "        \"department\": \"Software Engineering\"\n",
    "    },\n",
    "    {\n",
    "        \"id\" : '09812hAB',\n",
    "        \"name\" : \"Emmanuella\",\n",
    "        \"age\" : 16,\n",
    "        \"department\": \"Software Engineering\"\n",
    "    },\n",
    "]\n",
    "\n",
    "# getting the key and the value using .items\n",
    "for dictionary in array_of_dict:\n",
    "    for key, value in dictionary.items():\n",
    "        print(f'{key} -> {value}')"
   ]
  },
  {
   "cell_type": "markdown",
   "id": "dbafd216",
   "metadata": {},
   "source": [
    "### dictionary comprehension"
   ]
  },
  {
   "cell_type": "code",
   "execution_count": 95,
   "id": "83f1b2b3",
   "metadata": {},
   "outputs": [
    {
     "name": "stdout",
     "output_type": "stream",
     "text": [
      "{'AAPL': 145.2, 'AMZN': 4056.0, 'MSFT': 262.8, 'BIIB': 336.0, 'QDEL': 319.2, 'LVGO': 172.79999999999998}\n"
     ]
    }
   ],
   "source": [
    "stocks = {\n",
    "    'AAPL': 121,\n",
    "    'AMZN': 3380,\n",
    "    'MSFT': 219,\n",
    "    'BIIB': 280,\n",
    "    'QDEL': 266,\n",
    "    'LVGO': 144\n",
    "}\n",
    "\n",
    "# new_stocks = {}\n",
    "# for (name, value) in stocks.items():\n",
    "#     new_stocks[name] = value * 1.2\n",
    "\n",
    "new_stocks = {name: value * 1.2 for (name, value) in stocks.items()}\n",
    "\n",
    "print(new_stocks)"
   ]
  }
 ],
 "metadata": {
  "kernelspec": {
   "display_name": "Python 3",
   "language": "python",
   "name": "python3"
  },
  "language_info": {
   "codemirror_mode": {
    "name": "ipython",
    "version": 3
   },
   "file_extension": ".py",
   "mimetype": "text/x-python",
   "name": "python",
   "nbconvert_exporter": "python",
   "pygments_lexer": "ipython3",
   "version": "3.11.1 (main, Dec 23 2022, 09:39:26) [Clang 14.0.0 (clang-1400.0.29.202)]"
  },
  "vscode": {
   "interpreter": {
    "hash": "1a1af0ee75eeea9e2e1ee996c87e7a2b11a0bebd85af04bb136d915cefc0abce"
   }
  }
 },
 "nbformat": 4,
 "nbformat_minor": 5
}
