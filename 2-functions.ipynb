{
 "cells": [
  {
   "attachments": {},
   "cell_type": "markdown",
   "id": "7a776ec9",
   "metadata": {},
   "source": [
    "# Python Functions\n",
    "In Python, a function is a block of code that performs a specific task. Functions help you organize and reuse your code, making it more efficient and easier to understand.\n",
    "Functions can also return multiple values, or no value at all. You can call a function multiple times in your code, and each time it will execute the code inside the function with the given input values."
   ]
  },
  {
   "cell_type": "code",
   "execution_count": null,
   "id": "a6dfe161",
   "metadata": {},
   "outputs": [],
   "source": [
    "# example 1 - create a block of code to calculate the area of a circle\n",
    "\"\"\"\n",
    "This function should return the area of \n",
    "a circle when given the appropriate \n",
    "parameter Pi * r ** r\n",
    "\"\"\"\n",
    "# this should be a constant value, meaning that you should not change it\n",
    "PI = 3.142\n",
    "\n",
    "def area_of_a_circle(radius):\n",
    "    result = PI * radius ** radius\n",
    "    return result\n",
    "\n",
    "area = area_of_a_circle(3)\n",
    "print(area)"
   ]
  },
  {
   "cell_type": "code",
   "execution_count": null,
   "id": "fbd4ee03",
   "metadata": {},
   "outputs": [],
   "source": [
    "# example 2 - calculating the area of a circle using a default parameter\n",
    "PI = 3.142\n",
    "def area_of_a_circle(radius=2):\n",
    "    result = PI * radius ** radius\n",
    "    return result\n",
    "\n",
    "area = area_of_a_circle()\n",
    "print(area)"
   ]
  },
  {
   "cell_type": "code",
   "execution_count": null,
   "id": "dc1d24e1",
   "metadata": {},
   "outputs": [],
   "source": [
    "# example 3 - keyword argument\n",
    "\n",
    "\n",
    "def default_get_bio(first_name, last_name, age):\n",
    "    return f'My name is {first_name} {last_name}, i am {age} year(s) old'\n",
    "\n",
    "# get_user_bio = get_bio(\"marvelous\", \"solomon\", 45)\n",
    "# print(get_user_bio)\n",
    "\n",
    "# ------------------------------------------------------------------------------\n",
    "\n",
    "# Collecting Arguments using *args\n",
    "def args_get_bio(*args):    \n",
    "    print(args[0])\n",
    "    print(args[1])\n",
    "    print(args[2])\n",
    "\n",
    "get_user_bio = get_bio(2022, \"marvelous\", \"solomon\", 45, \"Nexford\")\n",
    "\n",
    "\n",
    "# Collecting Arguments using **kwargs\n",
    "def kwargs_get_bio(**kwargs):    \n",
    "    year = kwargs['year']\n",
    "    first_name = kwargs['first_name']\n",
    "    print(first_name, year)\n",
    "    \n",
    "get_user_bio = kwargs_get_bio(first_name=\"Marvelous\", year=2022)"
   ]
  },
  {
   "cell_type": "code",
   "execution_count": null,
   "id": "1f998d2e",
   "metadata": {},
   "outputs": [],
   "source": [
    "# Recursive Functions - A function calling itself continuously until a condition is met\n",
    "\n",
    "def factorial_example(n):\n",
    "    if n == 1:\n",
    "        return 1\n",
    "    else:\n",
    "        return (n * factorial_example(n-1))\n",
    "        \n",
    "factorial_example(5)"
   ]
  },
  {
   "cell_type": "code",
   "execution_count": null,
   "id": "11a8c050",
   "metadata": {},
   "outputs": [],
   "source": [
    "# Referencing a global variable inside a function\n",
    "count = 1\n",
    "def func():\n",
    "    \"\"\"\n",
    "    This function would increament the value of count by 1\n",
    "    Basically we just added 1 to the count variable\n",
    "    \"\"\"\n",
    "    global count\n",
    "    count += 1\n",
    "    return (count)\n",
    "\n",
    "print(func.__doc__)"
   ]
  },
  {
   "cell_type": "code",
   "execution_count": null,
   "id": "b467dcd2",
   "metadata": {},
   "outputs": [],
   "source": [
    "# Lambda Functions - Short form of writing python functions\n",
    "\n",
    "add = lambda a,b : a * b\n",
    "print(add(5,5))"
   ]
  }
 ],
 "metadata": {
  "kernelspec": {
   "display_name": "Python 3 (ipykernel)",
   "language": "python",
   "name": "python3"
  },
  "language_info": {
   "codemirror_mode": {
    "name": "ipython",
    "version": 3
   },
   "file_extension": ".py",
   "mimetype": "text/x-python",
   "name": "python",
   "nbconvert_exporter": "python",
   "pygments_lexer": "ipython3",
   "version": "3.11.1 (main, Dec 23 2022, 09:39:26) [Clang 14.0.0 (clang-1400.0.29.202)]"
  },
  "vscode": {
   "interpreter": {
    "hash": "1a1af0ee75eeea9e2e1ee996c87e7a2b11a0bebd85af04bb136d915cefc0abce"
   }
  }
 },
 "nbformat": 4,
 "nbformat_minor": 5
}
