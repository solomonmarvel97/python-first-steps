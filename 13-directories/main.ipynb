{
 "cells": [
  {
   "attachments": {},
   "cell_type": "markdown",
   "metadata": {},
   "source": [
    "# Working with directories\n",
    "\n",
    "In Python, you can use the os module to work with directories (also called \"folders\"). The os module provides functions to perform various operations on directories.\n",
    "\n",
    "Here are a few examples of common tasks you might perform with the os module:\n",
    "\n",
    "## Creating a Directory\n",
    "To create a new directory, you can use the os.mkdir() function. This function takes a single argument, which is the name of the directory you want to create.\n",
    "\n",
    "```\n",
    "import os\n",
    "\n",
    "# Create a new directory called \"newdir\"\n",
    "os.mkdir(\"newdir\")\n",
    "```\n",
    "\n",
    "## Changing the Current Working Directory\n",
    "To change the current working directory, you can use the os.chdir() function. This function takes a single argument, which is the path of the directory you want to change to.\n",
    "\n",
    "```\n",
    "import os\n",
    "\n",
    "# Change the current working directory to \"newdir\"\n",
    "os.chdir(\"newdir\")\n",
    "```\n",
    "\n",
    "## Listing the Contents of a Directory\n",
    "To list the contents of a directory, you can use the os.listdir() function. This function takes a single argument, which is the path of the directory you want to list the contents of. It returns a list of the names of the files and directories in that directory.\n",
    "\n",
    "```\n",
    "import os\n",
    "\n",
    "# List the contents of the current working directory\n",
    "contents = os.listdir()\n",
    "print(contents)\n",
    "```\n",
    "\n",
    "## Checking if a Path is a Directory\n",
    "To check if a given path is a directory, you can use the os.path.isdir() function. This function takes a single argument, which is the path you want to check. It returns True if the path is a directory, and False if it is not.\n",
    "\n",
    "```\n",
    "import os\n",
    "\n",
    "# Check if the current working directory is a directory\n",
    "is_dir = os.path.isdir(\".\")\n",
    "print(is_dir)\n",
    "```"
   ]
  },
  {
   "cell_type": "code",
   "execution_count": null,
   "metadata": {},
   "outputs": [],
   "source": [
    "# Create a new directory called \"newdir\"\n",
    "import os\n",
    "os.mkdir(\"newdir\")"
   ]
  },
  {
   "cell_type": "code",
   "execution_count": null,
   "metadata": {},
   "outputs": [],
   "source": [
    "# Change the current working directory to \"newdir\"\n",
    "import os\n",
    "os.chdir(\"newdir\")"
   ]
  },
  {
   "cell_type": "code",
   "execution_count": null,
   "metadata": {},
   "outputs": [],
   "source": [
    "import os\n",
    "# List the contents of the current working directory\n",
    "contents = os.listdir()\n",
    "print(contents)"
   ]
  },
  {
   "cell_type": "code",
   "execution_count": null,
   "metadata": {},
   "outputs": [],
   "source": [
    "\n",
    "# Check if the current working directory is a directory\n",
    "import os\n",
    "is_dir = os.path.isdir(\".\")\n",
    "print(is_dir)"
   ]
  }
 ],
 "metadata": {
  "kernelspec": {
   "display_name": "Python 3",
   "language": "python",
   "name": "python3"
  },
  "language_info": {
   "name": "python",
   "version": "3.11.1 (main, Dec 23 2022, 09:39:26) [Clang 14.0.0 (clang-1400.0.29.202)]"
  },
  "orig_nbformat": 4,
  "vscode": {
   "interpreter": {
    "hash": "1a1af0ee75eeea9e2e1ee996c87e7a2b11a0bebd85af04bb136d915cefc0abce"
   }
  }
 },
 "nbformat": 4,
 "nbformat_minor": 2
}
